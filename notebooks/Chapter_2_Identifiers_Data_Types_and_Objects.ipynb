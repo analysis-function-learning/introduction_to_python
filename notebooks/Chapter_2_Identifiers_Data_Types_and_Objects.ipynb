{
 "cells": [
  {
   "cell_type": "markdown",
   "metadata": {},
   "source": [
    "<a id='menu'></a>\n",
    " <hr style=\"width:100%;height:4px;border-width:0;color:gray;background-color:#003d59; opacity:0.25\"> \n",
    "\n",
    " ![learning academy and data science campus logos](../images/la_dsc_logo.jpg)\n",
    "  <hr style=\"width:100%;height:4px;border-width:0;color:gray;background-color:#003d59; opacity:0.25\"> "
   ]
  },
  {
   "cell_type": "markdown",
   "metadata": {},
   "source": [
    "<a id='menu'></a>\n",
    "# Introduction to Python\n",
    "\n",
    "## Chapter 2 – Identifiers, Data Types, and Objects\n",
    "***\n",
    "Follow along with the code by running cells as you encounter them\n",
    "***\n",
    "\n",
    "*Chapter  Overview and Learning Objectives*:\n",
    "\n",
    "\n",
    "* [Identifiers](#identifiers)\n",
    "    - Variables\n",
    "    - Naming objects\n",
    "    - Naming conventions\n",
    "\n",
    "\n",
    "* [Data Types](#data_types)\n",
    "  - Numerics\n",
    "  - Strings\n",
    "  - Booleans\n",
    "  - Type Conversion\n",
    "\n",
    "\n",
    "* [Objects and Classes](#objects)\n",
    "  - Lists\n",
    "  - Tuples\n",
    "  - Dictionaries\n",
    "  - Indexing\n",
    "  - Accessing functions, methods and attributes\n",
    "\n",
    "\n",
    "* [Pandas Objects](#pandas_objects)\n",
    "  - Packages\n",
    "  - Importing Pandas\n",
    "  - Series\n",
    "  - Data Frame\n",
    "\n",
    "\n",
    "* [Accessing Help](#help)"
   ]
  },
  {
   "cell_type": "markdown",
   "metadata": {},
   "source": [
    "<a id='identifiers'></a>\n",
    "<hr style=\"width:100%;height:4px;border-width:0;color:gray;background-color:#003d59; opacity:1\"> "
   ]
  },
  {
   "cell_type": "markdown",
   "metadata": {},
   "source": [
    "## Identifiers"
   ]
  },
  {
   "cell_type": "markdown",
   "metadata": {},
   "source": [
    "Python is an \"object orientated programming language\".\n",
    "\n",
    "In Python everything is an \"object\". We’ll look at some of the common ones in this section, like lists, tuples and dictionaries. We’ll also look at some specialised objects – like series and data frames from the Pandas module."
   ]
  },
  {
   "cell_type": "markdown",
   "metadata": {},
   "source": [
    "<hr style=\"width:75%;height:4px;border-width:0;color:gray;background-color:#003d59; opacity:0.75\"> "
   ]
  },
  {
   "cell_type": "markdown",
   "metadata": {},
   "source": [
    "### Variables"
   ]
  },
  {
   "cell_type": "markdown",
   "metadata": {},
   "source": [
    "When we create objects in Python we assign it to a variable. \n",
    "\n",
    "Variables are words and numbers that act like labels; a reference to an object that lives in memory. \n",
    "\n",
    "Without this variable we can’t “find” the object again in memory and won’t be able to use it.\n",
    "\n",
    "In Python we assign variables using the equals sign ( `=` )\n",
    " \n",
    "Our label (or variable name) goes on the left of the equals sign.\n",
    "\n",
    "The object we want to store goes on the right of the equals sign.\n",
    "\n",
    "In Python we do not have to state the data type of variable we are storing."
   ]
  },
  {
   "cell_type": "code",
   "execution_count": 1,
   "metadata": {
    "collapsed": true
   },
   "outputs": [],
   "source": [
    "x = 4 + 3"
   ]
  },
  {
   "cell_type": "code",
   "execution_count": 2,
   "metadata": {},
   "outputs": [
    {
     "data": {
      "text/plain": [
       "7"
      ]
     },
     "execution_count": 2,
     "metadata": {},
     "output_type": "execute_result"
    }
   ],
   "source": [
    "4 + 3"
   ]
  },
  {
   "cell_type": "markdown",
   "metadata": {},
   "source": [
    "Here we are storing an object (the sum of `4 + 3`) and giving it the label of `x`.\n",
    "\n",
    "You’ll notice that when we run the cell above it does not output the value of `x`.\n",
    "\n",
    "To see the value of `x` we can give Python the variable name, run the cell and it will output the value."
   ]
  },
  {
   "cell_type": "code",
   "execution_count": 3,
   "metadata": {},
   "outputs": [
    {
     "data": {
      "text/plain": [
       "7"
      ]
     },
     "execution_count": 3,
     "metadata": {},
     "output_type": "execute_result"
    }
   ],
   "source": [
    "x"
   ]
  },
  {
   "cell_type": "markdown",
   "metadata": {},
   "source": [
    "Why do we have to ask Jupyter to output things? \n",
    "\n",
    "When we assign a variable Python keeps it stored within memory for later use. While we’re learning or testing our code we may want to check our outputs regularly. \n",
    "\n",
    "However, once we’re confident the code operates as expected outputting every stage isn’t necessary – in fact it’s not an efficient use of memory."
   ]
  },
  {
   "cell_type": "code",
   "execution_count": 4,
   "metadata": {},
   "outputs": [
    {
     "data": {
      "text/plain": [
       "'Hello'"
      ]
     },
     "execution_count": 4,
     "metadata": {},
     "output_type": "execute_result"
    }
   ],
   "source": [
    "x = 4 + 3\n",
    "y = \"Hello\"\n",
    "\n",
    "x\n",
    "y"
   ]
  },
  {
   "cell_type": "markdown",
   "metadata": {},
   "source": [
    "Notice how the output for the above cell is the value of y.\n",
    "\n",
    "Jupyter prints one output per cell by default.\n",
    "\n",
    "If I want to print more I can use the `print()` function.\n"
   ]
  },
  {
   "cell_type": "code",
   "execution_count": 5,
   "metadata": {},
   "outputs": [
    {
     "name": "stdout",
     "output_type": "stream",
     "text": [
      "7 Hello\n"
     ]
    }
   ],
   "source": [
    "print(x, y)"
   ]
  },
  {
   "cell_type": "markdown",
   "metadata": {},
   "source": [
    "Some users will add in additional text strings here to explain results. For example:"
   ]
  },
  {
   "cell_type": "code",
   "execution_count": 6,
   "metadata": {},
   "outputs": [
    {
     "name": "stdout",
     "output_type": "stream",
     "text": [
      "Hello I am 7 years old\n"
     ]
    }
   ],
   "source": [
    "print(y, \"I am\", x, \"years old\")"
   ]
  },
  {
   "cell_type": "markdown",
   "metadata": {},
   "source": [
    "You will see a lot of the solutions in this course wrapped in `print()` functions – to avoid using multiple cells.\n",
    "\n",
    "Finally – we can overwrite the values of a variable by reassigning it.\n",
    "\n",
    "`y` had the value of `\"Hello\"`\n",
    "\n",
    "This code below will now give it the value of `26`. \n",
    "\n",
    "We should be careful when we’re assigning variables as Python does not warn us if a variable already exists!"
   ]
  },
  {
   "cell_type": "code",
   "execution_count": 7,
   "metadata": {},
   "outputs": [
    {
     "data": {
      "text/plain": [
       "26"
      ]
     },
     "execution_count": 7,
     "metadata": {},
     "output_type": "execute_result"
    }
   ],
   "source": [
    "y = 26\n",
    "y"
   ]
  },
  {
   "cell_type": "markdown",
   "metadata": {},
   "source": [
    "<hr style=\"width:75%;height:4px;border-width:0;color:gray;background-color:#003d59; opacity:0.75\"> "
   ]
  },
  {
   "cell_type": "markdown",
   "metadata": {},
   "source": [
    "### Naming Conventions"
   ]
  },
  {
   "cell_type": "markdown",
   "metadata": {},
   "source": [
    "Naming your variables can be one of the trickier parts of coding.\n",
    "\n",
    "Choosing sensible names saves time and energy later, when you try and remember what you've called something. \n",
    "\n",
    "Clever naming allows you to figure out what an object contains without having to inspect it.\n",
    "\n",
    "\n",
    "A variable name:\n",
    "\n",
    "* Must start with a letter or an underscore\n",
    "* Can’t begin with a number\n",
    "* Only contain alphanumeric characters and underscores\n",
    "* Is case sensitive (MY_VARIABLE and my_variable and My_vArIaBle are treated independently)\n",
    "* Must not have hyphens\n",
    "\n",
    "You may also have your own departmental guidance for naming variables.\n",
    "\n",
    "General guidance recommends [Python’s pep8 coding standards](https://realpython.com/python-pep8/#naming-styles) use of lowercase_with_underscores.\n",
    "\n",
    "Consistency is important – if you pick up your code after 6 months, or pass code on to your colleagues, using consistent names ensures your code works and improves the quality. \n",
    "\n",
    "> \"Always code as if the guy who ends up maintaining your code will be a violent psychopath who knows where you live. Code for readability.\" - John F Woods\n",
    "\n",
    "\n",
    "[The Data Science Campus]( https://datasciencecampus.github.io/coding-standards/python.html#style-guide) have their style guide linked online.\n",
    "\n",
    "\n",
    "Through this course we will use lower case words with an underscore between them, e.g:\n",
    "\n",
    "``` python\n",
    "music_df  # The contents should be a DataFrame\n",
    "\n",
    "cars_model # The contents should be a model\n",
    "\n",
    "names_list # The contents should be a list\n",
    "\n",
    "```"
   ]
  },
  {
   "cell_type": "code",
   "execution_count": null,
   "metadata": {
    "collapsed": true
   },
   "outputs": [],
   "source": []
  },
  {
   "cell_type": "code",
   "execution_count": null,
   "metadata": {
    "collapsed": true
   },
   "outputs": [],
   "source": []
  },
  {
   "cell_type": "markdown",
   "metadata": {},
   "source": [
    "<hr style=\"width:50%;height:4px;border-width:0;color:gray;background-color:#003d59; opacity:0.5\"> "
   ]
  },
  {
   "cell_type": "markdown",
   "metadata": {},
   "source": [
    "## Exercise\n",
    "\n",
    "Try storing the value of Pi (3.14159) under an appropriate variable name"
   ]
  },
  {
   "cell_type": "code",
   "execution_count": 9,
   "metadata": {},
   "outputs": [
    {
     "data": {
      "text/plain": [
       "3.141592653589793"
      ]
     },
     "execution_count": 9,
     "metadata": {},
     "output_type": "execute_result"
    }
   ],
   "source": [
    "# Exercise\n",
    "pi = 3.14519\n",
    "pi\n",
    "\n",
    "import numpy as np\n",
    "np.pi"
   ]
  },
  {
   "cell_type": "code",
   "execution_count": 11,
   "metadata": {},
   "outputs": [
    {
     "data": {
      "text/plain": [
       "3.14159"
      ]
     },
     "execution_count": 11,
     "metadata": {},
     "output_type": "execute_result"
    }
   ],
   "source": [
    "# %load ../solutions/chapter_2/assigning_variables.py\n",
    "# Store the value of Pi under an appropriate variable name\n",
    "\n",
    "pi = 3.14159\n",
    "\n",
    "# Return the value of pi\n",
    "\n",
    "pi"
   ]
  },
  {
   "cell_type": "markdown",
   "metadata": {},
   "source": [
    "<hr style=\"width:50%;height:4px;border-width:0;color:gray;background-color:#003d59; opacity:0.5\"> "
   ]
  },
  {
   "cell_type": "markdown",
   "metadata": {},
   "source": [
    "You can see what variables you have declared by using the [magic command](https://ipython.readthedocs.io/en/stable/interactive/magics.html) \n",
    "\n",
    "`%whos`.\n",
    "\n",
    "These magic commands work in Jupyter Notebooks. These rely on an iPython console; in programs like Spyder they will only work in the IPython console; and even then not all commands will perform the same action as in Jupyter Notebooks.\n",
    "\n",
    "Jupyter Notebook does not have a typical variable explorer like you may have seen in other languages. If this is important to you, Spyder does have this capability."
   ]
  },
  {
   "cell_type": "code",
   "execution_count": 13,
   "metadata": {},
   "outputs": [
    {
     "name": "stdout",
     "output_type": "stream",
     "text": [
      "np\t pi\t x\t y\t \n"
     ]
    }
   ],
   "source": [
    "%who"
   ]
  },
  {
   "cell_type": "code",
   "execution_count": 12,
   "metadata": {},
   "outputs": [
    {
     "name": "stdout",
     "output_type": "stream",
     "text": [
      "Variable   Type      Data/Info\n",
      "------------------------------\n",
      "np         module    <module 'numpy' from 'C:\\<...>ges\\\\numpy\\\\__init__.py'>\n",
      "pi         float     3.14159\n",
      "x          int       7\n",
      "y          int       26\n"
     ]
    }
   ],
   "source": [
    "%whos"
   ]
  },
  {
   "cell_type": "markdown",
   "metadata": {},
   "source": [
    "You can delete variables by using the keyword `del` and then supplying the variable name."
   ]
  },
  {
   "cell_type": "code",
   "execution_count": 14,
   "metadata": {
    "collapsed": true
   },
   "outputs": [],
   "source": [
    "del x "
   ]
  },
  {
   "cell_type": "markdown",
   "metadata": {},
   "source": [
    "If we run `%whos` again we'll notice `x` no longer exists"
   ]
  },
  {
   "cell_type": "code",
   "execution_count": 15,
   "metadata": {},
   "outputs": [
    {
     "name": "stdout",
     "output_type": "stream",
     "text": [
      "Variable   Type      Data/Info\n",
      "------------------------------\n",
      "np         module    <module 'numpy' from 'C:\\<...>ges\\\\numpy\\\\__init__.py'>\n",
      "pi         float     3.14159\n",
      "y          int       26\n"
     ]
    }
   ],
   "source": [
    "%whos"
   ]
  },
  {
   "cell_type": "code",
   "execution_count": 19,
   "metadata": {},
   "outputs": [
    {
     "ename": "NameError",
     "evalue": "name 'pI' is not defined",
     "output_type": "error",
     "traceback": [
      "\u001b[1;31m---------------------------------------------------------------------------\u001b[0m",
      "\u001b[1;31mNameError\u001b[0m                                 Traceback (most recent call last)",
      "\u001b[1;32m<ipython-input-19-e27a30423490>\u001b[0m in \u001b[0;36m<module>\u001b[1;34m()\u001b[0m\n\u001b[1;32m----> 1\u001b[1;33m \u001b[0mpI\u001b[0m\u001b[1;33m\u001b[0m\u001b[0m\n\u001b[0m",
      "\u001b[1;31mNameError\u001b[0m: name 'pI' is not defined"
     ]
    }
   ],
   "source": [
    "p"
   ]
  },
  {
   "cell_type": "markdown",
   "metadata": {},
   "source": [
    "Note if we now try returning x we will get an error message:  \n",
    "\n",
    "``` python\n",
    "NameError: name 'x' is not defined\n",
    "\n",
    "```\n",
    "\n",
    "`x` is not defined as we deleted it.\n",
    "\n",
    "You’ll also see this error if you make a spelling mistake or capitalisation error when referring to a variable. \n",
    "\n",
    "e.g capital `Y` will give the same error, as our variable is lower case `y`.\n"
   ]
  },
  {
   "cell_type": "markdown",
   "metadata": {},
   "source": [
    "[return to menu](#menu)"
   ]
  },
  {
   "cell_type": "markdown",
   "metadata": {},
   "source": [
    "<a id='data_types'></a>\n",
    "<hr style=\"width:100%;height:4px;border-width:0;color:gray;background-color:#003d59; opacity:1\"> "
   ]
  },
  {
   "cell_type": "markdown",
   "metadata": {},
   "source": [
    "## Data Types"
   ]
  },
  {
   "cell_type": "markdown",
   "metadata": {},
   "source": [
    "<hr style=\"width:75%;height:4px;border-width:0;color:gray;background-color:#003d59; opacity:0.75\"> "
   ]
  },
  {
   "cell_type": "markdown",
   "metadata": {},
   "source": [
    "### Numerical"
   ]
  },
  {
   "cell_type": "markdown",
   "metadata": {},
   "source": [
    "We’ll deal with two main types of numeric data types in Python.\n",
    "\n",
    "**int ** (plain integers) are positive or negative (or zero) whole numbers.\n"
   ]
  },
  {
   "cell_type": "markdown",
   "metadata": {},
   "source": [
    "We can use the type() function to check the type of whatever we put within the brackets."
   ]
  },
  {
   "cell_type": "code",
   "execution_count": 20,
   "metadata": {},
   "outputs": [
    {
     "data": {
      "text/plain": [
       "int"
      ]
     },
     "execution_count": 20,
     "metadata": {},
     "output_type": "execute_result"
    }
   ],
   "source": [
    "type(4)"
   ]
  },
  {
   "cell_type": "code",
   "execution_count": 21,
   "metadata": {},
   "outputs": [
    {
     "data": {
      "text/plain": [
       "int"
      ]
     },
     "execution_count": 21,
     "metadata": {},
     "output_type": "execute_result"
    }
   ],
   "source": [
    "type(y)"
   ]
  },
  {
   "cell_type": "markdown",
   "metadata": {},
   "source": [
    "**float** (floating point numbers) are decimal numbers."
   ]
  },
  {
   "cell_type": "code",
   "execution_count": 22,
   "metadata": {},
   "outputs": [
    {
     "data": {
      "text/plain": [
       "float"
      ]
     },
     "execution_count": 22,
     "metadata": {},
     "output_type": "execute_result"
    }
   ],
   "source": [
    "type(4.5674)"
   ]
  },
  {
   "cell_type": "code",
   "execution_count": 23,
   "metadata": {},
   "outputs": [
    {
     "data": {
      "text/plain": [
       "float"
      ]
     },
     "execution_count": 23,
     "metadata": {},
     "output_type": "execute_result"
    }
   ],
   "source": [
    "type(pi)"
   ]
  },
  {
   "cell_type": "markdown",
   "metadata": {},
   "source": [
    "<hr style=\"width:50%;height:4px;border-width:0;color:gray;background-color:#003d59; opacity:0.5\"> "
   ]
  },
  {
   "cell_type": "markdown",
   "metadata": {},
   "source": [
    "### Exercise\n",
    "\n",
    "Store your age (as a int)\n",
    "Store your height in meters (as a float)\n",
    "\n",
    "Use apropriate variable names.\n",
    "Use one line per variable.\n",
    "\n",
    "N.B. Your height needs to be a number, Python will give an error if you try and store a variable like 1.6m."
   ]
  },
  {
   "cell_type": "code",
   "execution_count": 26,
   "metadata": {},
   "outputs": [
    {
     "data": {
      "text/plain": [
       "3"
      ]
     },
     "execution_count": 26,
     "metadata": {},
     "output_type": "execute_result"
    }
   ],
   "source": [
    "# Exercise\n",
    "int(3.698)\n",
    "round(3.498)"
   ]
  },
  {
   "cell_type": "code",
   "execution_count": 28,
   "metadata": {},
   "outputs": [
    {
     "name": "stdout",
     "output_type": "stream",
     "text": [
      "My age is 29 and my height is 1.6m\n"
     ]
    }
   ],
   "source": [
    "# %load ../solutions/chapter_2/data_type_numeric.py\n",
    "# Create a variable for age (int)\n",
    "age = 29\n",
    "\n",
    "# Create a variable to store height (float)\n",
    "\n",
    "height = 1.6\n",
    "\n",
    "# Print out the variables\n",
    "\n",
    "print(\"My age is\", age, \"and my height is\", str(height)+\"m\" )\n",
    "\n",
    "# If I want to display my height as 1.6m I need to convert height to a string\n",
    "# The + symbol concatenates (joins without a space)"
   ]
  },
  {
   "cell_type": "code",
   "execution_count": 32,
   "metadata": {},
   "outputs": [
    {
     "name": "stdout",
     "output_type": "stream",
     "text": [
      "1.6m\n"
     ]
    }
   ],
   "source": [
    "print(str(height)+\"m\")"
   ]
  },
  {
   "cell_type": "markdown",
   "metadata": {},
   "source": [
    "<hr style=\"width:75%;height:4px;border-width:0;color:gray;background-color:#003d59; opacity:0.75\"> "
   ]
  },
  {
   "cell_type": "markdown",
   "metadata": {},
   "source": [
    "### Strings"
   ]
  },
  {
   "cell_type": "markdown",
   "metadata": {
    "collapsed": true
   },
   "source": [
    "Strings are sequences of character data. The type in Python is called **str**. \n",
    "\n",
    "Strings are contained within either 'single' or \"double\" quotation marks.\n",
    "\n",
    "All characters between the opening and the closing quote are part of the string."
   ]
  },
  {
   "cell_type": "code",
   "execution_count": 33,
   "metadata": {},
   "outputs": [
    {
     "name": "stdout",
     "output_type": "stream",
     "text": [
      "<class 'str'> <class 'str'> <class 'str'>\n"
     ]
    }
   ],
   "source": [
    "print(type(\"Hello\"), type(\"This is a string\"), type('This string contains 5 words!'))"
   ]
  },
  {
   "cell_type": "markdown",
   "metadata": {},
   "source": [
    "As you can see by running the cell above strings can also contain numbers and punctuation. We’ll look at this again later when we import data.\n",
    "\n",
    "The choice between single and double quotes is up to the user. \n",
    "\n",
    "We reccomend that if you’re creating strings that use apostrophes or single quote marks, use double quotes to open and close your string.\n",
    "\n",
    "The cells below will provide an error message."
   ]
  },
  {
   "cell_type": "code",
   "execution_count": 34,
   "metadata": {},
   "outputs": [
    {
     "ename": "SyntaxError",
     "evalue": "invalid syntax (<ipython-input-34-13893f85e431>, line 1)",
     "output_type": "error",
     "traceback": [
      "\u001b[1;36m  File \u001b[1;32m\"<ipython-input-34-13893f85e431>\"\u001b[1;36m, line \u001b[1;32m1\u001b[0m\n\u001b[1;33m    'Tom's phone'  # Will cause an error\u001b[0m\n\u001b[1;37m         ^\u001b[0m\n\u001b[1;31mSyntaxError\u001b[0m\u001b[1;31m:\u001b[0m invalid syntax\n"
     ]
    }
   ],
   "source": [
    "'Tom's phone'  # Will cause an error"
   ]
  },
  {
   "cell_type": "code",
   "execution_count": null,
   "metadata": {
    "collapsed": true
   },
   "outputs": [],
   "source": [
    "\"Sadia said \"creating strings is easy\" to the room \" # Will also cause an error"
   ]
  },
  {
   "cell_type": "markdown",
   "metadata": {},
   "source": [
    "But this cell, using double quotes to start and end our string with an apostrophe, and using single quotes for our string containing speach works well."
   ]
  },
  {
   "cell_type": "code",
   "execution_count": 35,
   "metadata": {},
   "outputs": [
    {
     "data": {
      "text/plain": [
       "(\"Tom's phone\", 'Sadia said \"creating strings is easy\" to the room')"
      ]
     },
     "execution_count": 35,
     "metadata": {},
     "output_type": "execute_result"
    }
   ],
   "source": [
    "\"Tom's phone\" , 'Sadia said \"creating strings is easy\" to the room'"
   ]
  },
  {
   "cell_type": "code",
   "execution_count": 36,
   "metadata": {},
   "outputs": [
    {
     "data": {
      "text/plain": [
       "\"Tom's phone\""
      ]
     },
     "execution_count": 36,
     "metadata": {},
     "output_type": "execute_result"
    }
   ],
   "source": [
    "'Tom\\'s phone'  # Will cause an error"
   ]
  },
  {
   "cell_type": "markdown",
   "metadata": {},
   "source": [
    "Notice how the whole strings are coloured red in the second example.\n",
    "\n",
    "This is something known as syntax highlighting and can be very useful to ensure you’ve closed your strings.\n",
    "\n",
    " <hr style=\"width:50%;height:4px;border-width:0;color:gray;background-color:#003d59; opacity:0.5\"> \n",
    "### Exercise\n",
    "\n",
    "\n",
    "Store the value of your name under an appropriate variable\n"
   ]
  },
  {
   "cell_type": "code",
   "execution_count": null,
   "metadata": {
    "collapsed": true
   },
   "outputs": [],
   "source": [
    "# Exercise\n",
    "\n"
   ]
  },
  {
   "cell_type": "code",
   "execution_count": 38,
   "metadata": {},
   "outputs": [
    {
     "data": {
      "text/plain": [
       "'Hannah'"
      ]
     },
     "execution_count": 38,
     "metadata": {},
     "output_type": "execute_result"
    }
   ],
   "source": [
    "# %load ../solutions/chapter_2/data_type_string.py\n",
    "# Store your name under an appropriate variable\n",
    "name = \"Hannah\"\n",
    "\n",
    "# Print out the value\n",
    "\n",
    "name"
   ]
  },
  {
   "cell_type": "markdown",
   "metadata": {},
   "source": [
    "<hr style=\"width:75%;height:4px;border-width:0;color:gray;background-color:#003d59; opacity:0.75\"> "
   ]
  },
  {
   "cell_type": "markdown",
   "metadata": {},
   "source": [
    "### Boolean"
   ]
  },
  {
   "cell_type": "markdown",
   "metadata": {},
   "source": [
    "Boolean values are sometimes called logical values in other languages. \n",
    "\n",
    "There are two values `True` and `False`. \n",
    "\n",
    "In Python they must be spelt out fully and have a capital first letter. They are **not** text values; so do **not** require quote marks. They are a reserved word, and so are displayed in bold green text.\n",
    "\n",
    "As we’ll see later Python often evaluates expressions in a Boolean context; something is either “true” or “false”.\n",
    "\n",
    "`True` has the value of 1 and `False` has the value of 0.\n"
   ]
  },
  {
   "cell_type": "code",
   "execution_count": 39,
   "metadata": {},
   "outputs": [
    {
     "name": "stdout",
     "output_type": "stream",
     "text": [
      "<class 'bool'> <class 'bool'>\n"
     ]
    }
   ],
   "source": [
    "print(type(True), type(False))"
   ]
  },
  {
   "cell_type": "markdown",
   "metadata": {},
   "source": [
    "<hr style=\"width:50%;height:4px;border-width:0;color:gray;background-color:#003d59; opacity:0.5\"> "
   ]
  },
  {
   "cell_type": "markdown",
   "metadata": {},
   "source": [
    "### Exercise\n",
    "\n",
    "Test out the mathematics behind the Boolean values by adding together True and False.                                                \n"
   ]
  },
  {
   "cell_type": "code",
   "execution_count": 43,
   "metadata": {},
   "outputs": [
    {
     "data": {
      "text/plain": [
       "3"
      ]
     },
     "execution_count": 43,
     "metadata": {},
     "output_type": "execute_result"
    }
   ],
   "source": [
    "# Exercise\n",
    "True * 3\n"
   ]
  },
  {
   "cell_type": "code",
   "execution_count": null,
   "metadata": {
    "collapsed": true
   },
   "outputs": [],
   "source": [
    "# Solution - These cells contain answers for the exercises.\n",
    "#Run once to reveal the code.\n",
    "#Run again to reveal the output. \n",
    "\n",
    "%load ../solutions/chapter_2/data_type_bool.py\n"
   ]
  },
  {
   "cell_type": "markdown",
   "metadata": {},
   "source": [
    "<hr style=\"width:75%;height:4px;border-width:0;color:gray;background-color:#003d59; opacity:0.75\"> "
   ]
  },
  {
   "cell_type": "markdown",
   "metadata": {},
   "source": [
    "### Type Conversion"
   ]
  },
  {
   "cell_type": "markdown",
   "metadata": {},
   "source": [
    "You can also use inbuilt functions to convert type within Python\n",
    "\n",
    "* `int()` converts things to an integer,\n",
    "* `float()` converts things to a float,\n",
    "* `str()` converts things to a string.\n",
    "\n",
    "We’ll look at some other ways to do convert types later in the course.\n"
   ]
  },
  {
   "cell_type": "code",
   "execution_count": 45,
   "metadata": {},
   "outputs": [
    {
     "name": "stdout",
     "output_type": "stream",
     "text": [
      "3.0 5 3\n"
     ]
    }
   ],
   "source": [
    "print(float(3), int(5.3), str(3))"
   ]
  },
  {
   "cell_type": "code",
   "execution_count": 47,
   "metadata": {},
   "outputs": [
    {
     "data": {
      "text/plain": [
       "'343'"
      ]
     },
     "execution_count": 47,
     "metadata": {},
     "output_type": "execute_result"
    }
   ],
   "source": [
    "a = str(3)\n",
    "\"34\" + a"
   ]
  },
  {
   "cell_type": "code",
   "execution_count": 49,
   "metadata": {},
   "outputs": [
    {
     "data": {
      "text/plain": [
       "3.0"
      ]
     },
     "execution_count": 49,
     "metadata": {},
     "output_type": "execute_result"
    }
   ],
   "source": [
    "float(a)"
   ]
  },
  {
   "cell_type": "markdown",
   "metadata": {},
   "source": [
    "[return to menu](#menu)"
   ]
  },
  {
   "cell_type": "markdown",
   "metadata": {},
   "source": [
    "<a id='objects'></a>\n",
    "<hr style=\"width:100%;height:4px;border-width:0;color:gray;background-color:#003d59; opacity:1\"> "
   ]
  },
  {
   "cell_type": "markdown",
   "metadata": {},
   "source": [
    "## Objects and Classes"
   ]
  },
  {
   "cell_type": "markdown",
   "metadata": {},
   "source": [
    "* A class is a blueprint of similar objects.\n",
    "* Objects are instances of a class.\n",
    "* Classes contain attributes  and methods that belong to objects.\n",
    "* Methods dictate what objects can do - its behaviour.\n",
    "* attributes  are information owned by objects.\n",
    "* In python everything is an object!\n",
    "\n",
    "For example let’s make a pretend class called “Dog”.\n",
    "\n",
    "Our dog class has some methods – behaviours that dictate what they can do - e.g\n",
    "\n",
    "* `dog.eat()`\n",
    "* `dog.sleep()`\n",
    "* `dog.run()`\n",
    "* `dog.sit()`\n",
    "\n",
    "We also have attributes  – e.g\n",
    "\n",
    "* `dog.breed`\n",
    "* `dog.size`\n",
    "* `dog.age`\n",
    "\n",
    "We can then create objects of the “Dog” class. Let’s create a Chow Chow object, and we can then apply our methods and attributes  to it.\n",
    "\n",
    "\n",
    "<img src=\"../images/chowchow.jpg\" alt=\"Drawing\" style=\"width: 200px;\"/>\n",
    "\n",
    "E.G:\n",
    "\n",
    "**methods (actions)**\n",
    "* `chowchow.eat()`\n",
    "* `chowchow.run()`\n",
    "\n",
    "**attributes  (descriptors)**\n",
    "* chowchow.breed  returns `“Chow Chow”`\n",
    "* chowchow.size returns `“medium”`\n",
    "* chowchow.color returns `“brown”`\n",
    "\n",
    "We can also create an object called “jack_russel” from our “dog” class.\n",
    "\n",
    "We can still perform those methods, `jack_russel.eat()` and `jack_russel.run()` but the outputs of our attributes may be a little different: `jack_russel.size` will return us `small` for example.\n",
    "\n",
    "Attributes and methods pertain to the class of the object; for example a class called “snake” and an object called “corn_snake” wouldn’t need to have the method `.run()` as that’s not something snakes do, `.slither()` would be a better method.\n"
   ]
  },
  {
   "cell_type": "markdown",
   "metadata": {},
   "source": [
    "In this next section we’re going to look at some common objects from core python – Lists, Tuples and Dictionaries. "
   ]
  },
  {
   "cell_type": "markdown",
   "metadata": {},
   "source": [
    "<hr style=\"width:75%;height:4px;border-width:0;color:gray;background-color:#003d59; opacity:0.75\"> "
   ]
  },
  {
   "cell_type": "markdown",
   "metadata": {},
   "source": [
    "### Lists"
   ]
  },
  {
   "cell_type": "markdown",
   "metadata": {},
   "source": [
    "A list is a type of container; it holds a collection of items. \n",
    "\n",
    "The items in a list have an order (an index) \n",
    "\n",
    "Lists are mutable, we can change items in them and add or delete items,\n",
    "\n",
    "We create lists using square brackets `[ ]` and separate each item with a comma.\n",
    "\n",
    "Lists\n",
    "* Are the most versatile of the built-in data structures\n",
    "* Can hold any sequence of objects\n",
    "* Can hold mixed objects (like strings, integers and Booleans together)\n",
    "* Are mutable (can be changed)\n",
    "\n",
    "Lists can also do more advanced things than we talk about in this course. You may come across those as you progress with your code."
   ]
  },
  {
   "cell_type": "markdown",
   "metadata": {},
   "source": [
    "Here we have created a list with the variable name `the_pythons`.\n",
    "\n",
    "We assign values to this using the `=` sign\n",
    "\n",
    "These values are the strings `\"Chapman\" , \"Idle\", \"Gilliam\", \"Jones\", \"Cleese\"` and `\"Palin\"`\n",
    "\n",
    "Because we’re storing more than one value we need to use a list.\n",
    "\n",
    "To create our list we pleace square brackets `[ ]` around the values.\n",
    "\n",
    "Each value is separated by a comma.\n",
    "\n",
    "We print out the contents of the list by giving Python the variable name - `the_pythons`."
   ]
  },
  {
   "cell_type": "code",
   "execution_count": 50,
   "metadata": {},
   "outputs": [
    {
     "data": {
      "text/plain": [
       "['Chapman', 'Idle', 'Gillam', 'Jones', 'Cleese', 'Palin']"
      ]
     },
     "execution_count": 50,
     "metadata": {},
     "output_type": "execute_result"
    }
   ],
   "source": [
    "# Create my list\n",
    "\n",
    "the_pythons = [\"Chapman\", \"Idle\", \"Gillam\", \"Jones\", \"Cleese\", \"Palin\"]\n",
    "\n",
    "# Display my list\n",
    "\n",
    "the_pythons"
   ]
  },
  {
   "cell_type": "markdown",
   "metadata": {},
   "source": [
    "<hr style=\"width:50%;height:4px;border-width:0;color:gray;background-color:#003d59; opacity:0.5\"> "
   ]
  },
  {
   "cell_type": "markdown",
   "metadata": {},
   "source": [
    "### Exercise\n",
    "\n",
    "Store at least three hobbies within a list. Choose an appropriate variable name."
   ]
  },
  {
   "cell_type": "code",
   "execution_count": null,
   "metadata": {
    "collapsed": true
   },
   "outputs": [],
   "source": [
    "# Exercise\n",
    "\n"
   ]
  },
  {
   "cell_type": "code",
   "execution_count": 52,
   "metadata": {},
   "outputs": [
    {
     "data": {
      "text/plain": [
       "['Swimming', 'Shopping', 'Golf', 'Extreme Ironing']"
      ]
     },
     "execution_count": 52,
     "metadata": {},
     "output_type": "execute_result"
    }
   ],
   "source": [
    "# %load ../solutions/chapter_2/object_type_list.py\n",
    "# Store at least three hobbies within a list. Choose an appropriate variable name.\n",
    "hobbies = [\"Swimming\", \"Shopping\", \"Golf\", \"Extreme Ironing\"] \n",
    "\n",
    "# Return the list\n",
    "\n",
    "hobbies"
   ]
  },
  {
   "cell_type": "markdown",
   "metadata": {},
   "source": [
    "We can also create lists using the `list()` function."
   ]
  },
  {
   "cell_type": "markdown",
   "metadata": {},
   "source": [
    "<hr style=\"width:75%;height:4px;border-width:0;color:gray;background-color:#003d59; opacity:0.75\"> "
   ]
  },
  {
   "cell_type": "markdown",
   "metadata": {},
   "source": [
    "### Tuples"
   ]
  },
  {
   "cell_type": "markdown",
   "metadata": {},
   "source": [
    "Tuples are similar to lists; the two main differences are:\n",
    "\n",
    "* Tuples are immutable (unchangeable)\n",
    "* Tuples are created with round brackets `( )`\n",
    "\n",
    "We’ll often see lists and tuples as inputs or outputs for the programming we do."
   ]
  },
  {
   "cell_type": "code",
   "execution_count": 54,
   "metadata": {},
   "outputs": [
    {
     "data": {
      "text/plain": [
       "('Monday', 'Tuesday', 'Wednesday', 'Thursday', 'Friday', 'Saturday', 'Sunday')"
      ]
     },
     "execution_count": 54,
     "metadata": {},
     "output_type": "execute_result"
    }
   ],
   "source": [
    "# Create my tuple\n",
    "\n",
    "days_of_the_week = (\"Monday\", 'Tuesday', \"Wednesday\", \"Thursday\", \"Friday\", \"Saturday\", \"Sunday\")\n",
    "\n",
    "#print out my tuple\n",
    "\n",
    "days_of_the_week"
   ]
  },
  {
   "cell_type": "markdown",
   "metadata": {},
   "source": [
    "<hr style=\"width:50%;height:4px;border-width:0;color:gray;background-color:#003d59; opacity:0.5\"> "
   ]
  },
  {
   "cell_type": "markdown",
   "metadata": {},
   "source": [
    "### Exercise\n",
    "Store the names of at least three pets within a tuple. Choose an appropriate variable name."
   ]
  },
  {
   "cell_type": "code",
   "execution_count": null,
   "metadata": {
    "collapsed": true
   },
   "outputs": [],
   "source": [
    "# Exercise\n",
    "\n"
   ]
  },
  {
   "cell_type": "code",
   "execution_count": 58,
   "metadata": {},
   "outputs": [
    {
     "data": {
      "text/plain": [
       "('Clawdia', 'Catpernicus', 'Fuzz Aldrin', 'David Meowie', 'Dave')"
      ]
     },
     "execution_count": 58,
     "metadata": {},
     "output_type": "execute_result"
    }
   ],
   "source": [
    "# %load ../solutions/chapter_2/object_type_tuple.py\n",
    "#Store three pets names within a tuple. Choose an appropriate variable name.\n",
    "\n",
    "pets = (\"Clawdia\", \"Catpernicus\", \"Fuzz Aldrin\", \"David Meowie\", \"Dave\") \n",
    "\n",
    "# Return the values\n",
    "\n",
    "pets"
   ]
  },
  {
   "cell_type": "code",
   "execution_count": 57,
   "metadata": {},
   "outputs": [
    {
     "name": "stdout",
     "output_type": "stream",
     "text": [
      "Variable           Type      Data/Info\n",
      "--------------------------------------\n",
      "a                  str       3\n",
      "age                int       29\n",
      "days_of_the_week   tuple     n=7\n",
      "height             float     1.6\n",
      "hobbies            list      n=4\n",
      "name               str       Hannah\n",
      "np                 module    <module 'numpy' from 'C:\\<...>ges\\\\numpy\\\\__init__.py'>\n",
      "pets               tuple     n=4\n",
      "pi                 float     3.14159\n",
      "the_pythons        list      n=6\n",
      "y                  int       26\n"
     ]
    }
   ],
   "source": [
    "%whos"
   ]
  },
  {
   "cell_type": "markdown",
   "metadata": {},
   "source": [
    "We can also create tuples using the `tuple()` function. "
   ]
  },
  {
   "cell_type": "markdown",
   "metadata": {},
   "source": [
    "<hr style=\"width:50%;height:4px;border-width:0;color:gray;background-color:#003d59; opacity:0.5\"> "
   ]
  },
  {
   "cell_type": "markdown",
   "metadata": {},
   "source": [
    "When we say something is mutable or immutable we mean changing the contents programmatically. There are methods we’ll see later where we can add or remove a value from a list; like `.append()`, `.extend()` or `.pop()`\n",
    "\n",
    "We can’t do that to tuples; the only thing we can do is write over them in memory by assigning a new tuple to the same variable. \n",
    "\n",
    "That’s not changing the values in the tuple; but overwriting it – a technical but important difference.\n"
   ]
  },
  {
   "cell_type": "markdown",
   "metadata": {},
   "source": [
    "<hr style=\"width:75%;height:4px;border-width:0;color:gray;background-color:#003d59; opacity:0.75\"> "
   ]
  },
  {
   "cell_type": "markdown",
   "metadata": {},
   "source": [
    "### Dictionaries"
   ]
  },
  {
   "cell_type": "markdown",
   "metadata": {},
   "source": [
    "The third object type we’ll look at is Dictionaries.\n",
    "\n",
    "Dictionaries also store a collection of objects.\n",
    "\n",
    "Whereas lists and tuples have an order (an index); Dictionaries are unordered.\n",
    "\n",
    "\n",
    "Dictionaries are also\n",
    "* Mutable (can be altered)\n",
    "* Can contain lists and other (nested) dictionaries.\n",
    "\n",
    "Dictionaries are created using curly braces `{ }`\n",
    "\n",
    "Dictionaries contain key value pairs.\n",
    "\n",
    "**Keys** are usually integers or strings (an immutable data type)\n",
    "\n",
    "** Values** can be any type of object\n",
    "\n",
    "Keys and values are separated by a colon ( `:` )\n"
   ]
  },
  {
   "cell_type": "code",
   "execution_count": 59,
   "metadata": {},
   "outputs": [
    {
     "data": {
      "text/plain": [
       "{'enemy': 'Pontius Pilate',\n",
       " 'name': 'Brian Cohen',\n",
       " 'occupation': ['messiah ', 'very naughty boy'],\n",
       " 'outlook': 'Look on the bright side of life'}"
      ]
     },
     "execution_count": 59,
     "metadata": {},
     "output_type": "execute_result"
    }
   ],
   "source": [
    "# Create my dictionary\n",
    "\n",
    "brian_information = {\"name\": \"Brian Cohen\",\n",
    "                     \"occupation\": [\"messiah \", \"very naughty boy\"],  # more than one value gets stored in a list\n",
    "                     \"enemy\": \"Pontius Pilate\",\n",
    "                     \"outlook\": \"Look on the bright side of life\"}\n",
    "\n",
    "# Print the dictionary\n",
    "\n",
    "brian_information"
   ]
  },
  {
   "cell_type": "markdown",
   "metadata": {},
   "source": [
    "In this example we have the keys `name`, `occupation`, `enemy` and `outlook` - which all have associated values.\n",
    "\n",
    "Most have *one* associated value – like `Brian Cohen` for the key `name`.\n",
    "\n",
    "The key `occupation` has one associated value, a **list**. But this list contains multiple elements within itself. This allows us to be flexible with our values.\n",
    "\n",
    "Note the dictionary prints out it’s values in alphabetical order; not the order we supplied them in. \n",
    "Different versions of Python may print them out in a different order.\n"
   ]
  },
  {
   "cell_type": "markdown",
   "metadata": {},
   "source": [
    "<hr style=\"width:50%;height:4px;border-width:0;color:gray;background-color:#003d59; opacity:0.5\"> "
   ]
  },
  {
   "cell_type": "markdown",
   "metadata": {},
   "source": [
    "## Exercise:\n",
    "Make a dictionary;\n",
    "\n",
    "* Use cities as keys\n",
    "* Use sports team names as values.\n",
    "* Make one value a list.\n",
    "* Choose an appropriate variable name.\n",
    "\n",
    "E.g:\n",
    "\n",
    "* Newport has Newport County\n",
    "* Manchester has Manchester City and Manchester United\n",
    "* Fareham has Fareham Town"
   ]
  },
  {
   "cell_type": "code",
   "execution_count": null,
   "metadata": {
    "collapsed": true
   },
   "outputs": [],
   "source": [
    "# Exercise\n",
    "\n"
   ]
  },
  {
   "cell_type": "code",
   "execution_count": 61,
   "metadata": {},
   "outputs": [
    {
     "data": {
      "text/plain": [
       "{'Fareham': 'Fareham Town',\n",
       " 'Grimsby': 'Grimbsy Town',\n",
       " 'Leicester': 'Leicester City',\n",
       " 'London': ['Brentford',\n",
       "  'Queens Park Rangers',\n",
       "  'Chelsea',\n",
       "  'Fulham',\n",
       "  'Arsenal',\n",
       "  'West Ham',\n",
       "  'Millwall'],\n",
       " 'Manchester': ['Manchester City', 'Manchester United'],\n",
       " 'Newport': 'Newport County'}"
      ]
     },
     "execution_count": 61,
     "metadata": {},
     "output_type": "execute_result"
    }
   ],
   "source": [
    "# %load ../solutions/chapter_2/object_type_dictionary.py\n",
    "#Store three pets names within a tuple. Choose an appropriate variable name.\n",
    "\n",
    "football_clubs = {\"Newport\": \"Newport County\",\n",
    "                  \"Leicester\": \"Leicester City\",\n",
    "                  \"Manchester\": [\"Manchester City\", \"Manchester United\"],\n",
    "                  \"London\": [\"Brentford\", \"Queens Park Rangers\", \"Chelsea\", \"Fulham\", \"Arsenal\", \"West Ham\", \"Millwall\"],\n",
    "                  \"Grimsby\": \"Grimbsy Town\",\n",
    "                  \"Fareham\": \"Fareham Town\"} \n",
    "\n",
    "# Return the dictionary\n",
    "\n",
    "football_clubs"
   ]
  },
  {
   "cell_type": "markdown",
   "metadata": {},
   "source": [
    "We can also create dictionaries using the `dict()` function."
   ]
  },
  {
   "cell_type": "markdown",
   "metadata": {},
   "source": [
    "<hr style=\"width:75%;height:4px;border-width:0;color:gray;background-color:#003d59; opacity:0.75\"> "
   ]
  },
  {
   "cell_type": "markdown",
   "metadata": {},
   "source": [
    "### Indexing"
   ]
  },
  {
   "cell_type": "markdown",
   "metadata": {},
   "source": [
    "We can select items from our lists, tuples and dictionaries. To do so we use square brackets [ ] .\n",
    "\n",
    "Let’s look at the list `the_pythons` we defined earlier\n",
    "\n",
    "![Indexing_example](../images/indexing_1.jpg)\n",
    "\n",
    "We can select items from our lists, tuples and dictionaries. To do so we use square brackets [ ] .\n",
    "\n",
    "Let’s look at the list `the_pythons` we defined earlier\n",
    "\n",
    "Each item within our list (or tuple) has an index. This relates to it’s position in the list.\n",
    "\n",
    "Python starts indexing at 0 – which may be different to some other languages you’ve used. (Think of it as starting on the ground floor of a building, then going up to the first floor).\n",
    "\n",
    "In order to return the element in the list we can simply give the object name, then the index of the item we want to return within square brackets.\n",
    "\n",
    "The code below will return the value `Jones`\n"
   ]
  },
  {
   "cell_type": "code",
   "execution_count": 62,
   "metadata": {},
   "outputs": [
    {
     "data": {
      "text/plain": [
       "'Jones'"
      ]
     },
     "execution_count": 62,
     "metadata": {},
     "output_type": "execute_result"
    }
   ],
   "source": [
    "the_pythons[3]"
   ]
  },
  {
   "cell_type": "markdown",
   "metadata": {},
   "source": [
    "We can also use what’s known as negative indexing.\n",
    "\n",
    "![Indexing_example](../images/negative_indexing.jpg)\n",
    "\n",
    "The code in the next cell will return the same values. This can be useful if you want to return the last element; without knowing how many elements there are in your object.\n"
   ]
  },
  {
   "cell_type": "code",
   "execution_count": 63,
   "metadata": {
    "scrolled": true
   },
   "outputs": [
    {
     "name": "stdout",
     "output_type": "stream",
     "text": [
      "Chapman Chapman\n"
     ]
    }
   ],
   "source": [
    "print(the_pythons[0], the_pythons[-6])"
   ]
  },
  {
   "cell_type": "markdown",
   "metadata": {},
   "source": [
    "For a list, we can use also use this indexing to overwrite values in a list. As tuples are immutable, and cannot be changed once created, this would not work on the `days_of_the_week` tuple."
   ]
  },
  {
   "cell_type": "code",
   "execution_count": 64,
   "metadata": {},
   "outputs": [
    {
     "data": {
      "text/plain": [
       "['Chapman', 'Idle', 'Gillam', 'Jones', 'Cheese', 'Palin']"
      ]
     },
     "execution_count": 64,
     "metadata": {},
     "output_type": "execute_result"
    }
   ],
   "source": [
    "the_pythons[4] = \"Cheese\" # Select the item at index 4 and overwrite it with \"Cheese\"\n",
    "\n",
    "# Return our modified list\n",
    "the_pythons"
   ]
  },
  {
   "cell_type": "markdown",
   "metadata": {},
   "source": [
    "<hr style=\"width:50%;height:4px;border-width:0;color:gray;background-color:#003d59; opacity:0.5\"> "
   ]
  },
  {
   "cell_type": "markdown",
   "metadata": {},
   "source": [
    "### Exercise\n",
    "\n",
    "The code below gives you a new list – of different types of parrot. They’re just resting; and pining for the Fjords.\n",
    "\n",
    "Use indexing to return the element ` Norwegian Blue` from the list"
   ]
  },
  {
   "cell_type": "code",
   "execution_count": 65,
   "metadata": {},
   "outputs": [
    {
     "data": {
      "text/plain": [
       "'Norwegian Blue'"
      ]
     },
     "execution_count": 65,
     "metadata": {},
     "output_type": "execute_result"
    }
   ],
   "source": [
    "# Exercise\n",
    "\n",
    "parrots = [\"Cockatoo\" , \"Macaw\", \"Parakeet\", \"Lorikeet\", \"Norwegian Blue\", \"Conure\"]\n",
    "\n",
    "# Use indexing to return the element Norwegian Blue\n",
    "\n",
    "parrots[-2]\n"
   ]
  },
  {
   "cell_type": "code",
   "execution_count": 67,
   "metadata": {},
   "outputs": [
    {
     "data": {
      "text/plain": [
       "'Wednesday'"
      ]
     },
     "execution_count": 67,
     "metadata": {},
     "output_type": "execute_result"
    }
   ],
   "source": [
    "days_of_the_week[2]"
   ]
  },
  {
   "cell_type": "code",
   "execution_count": null,
   "metadata": {
    "collapsed": true
   },
   "outputs": [],
   "source": [
    "# %load ../solutions/chapter_2/indexing_1.py\n",
    "# Use indexing to return the element Norwegian Blue from the list\n",
    "parrots[4], parrots[-2]\n"
   ]
  },
  {
   "cell_type": "markdown",
   "metadata": {},
   "source": [
    "<hr style=\"width:50%;height:4px;border-width:0;color:gray;background-color:#003d59; opacity:0.5\"> "
   ]
  },
  {
   "cell_type": "markdown",
   "metadata": {},
   "source": [
    "### Sequential items\n",
    "\n",
    "If we want to select more than one sequential item we can use a colon ( `:` ) between the first index position (inclusive) and the last index position (exclusive).\n",
    "\n",
    "It is important to remember that the last index is **exclusive** in this case, it will not be included.\n",
    "\n",
    "As a reminder our `the_pythons` list looks like this\n",
    "\n",
    "![Indexing_example](../images/indexing_1.jpg)\n",
    "\n",
    "If I wanted to select the values `Idle, Gillam, Jones` the following code:"
   ]
  },
  {
   "cell_type": "code",
   "execution_count": 68,
   "metadata": {},
   "outputs": [
    {
     "data": {
      "text/plain": [
       "['Idle', 'Gillam']"
      ]
     },
     "execution_count": 68,
     "metadata": {},
     "output_type": "execute_result"
    }
   ],
   "source": [
    "the_pythons[1:3]"
   ]
  },
  {
   "cell_type": "markdown",
   "metadata": {},
   "source": [
    "would not give the output we want. Instead I need to provide"
   ]
  },
  {
   "cell_type": "code",
   "execution_count": 74,
   "metadata": {},
   "outputs": [
    {
     "data": {
      "text/plain": [
       "['Idle', 'Gillam', 'Jones', 'Cheese', 'Palin']"
      ]
     },
     "execution_count": 74,
     "metadata": {},
     "output_type": "execute_result"
    }
   ],
   "source": [
    "the_pythons[1:]"
   ]
  },
  {
   "cell_type": "markdown",
   "metadata": {},
   "source": [
    "If I want to select from the beginning or to the end of the list I can leave the position before or after the colon blank respectively.\n",
    "\n",
    "This first code selects from the start of the list to `Gillam` - remember the last number is exclusive.\n",
    "\n",
    "This code selects from `Idle` at index 1 to the end of the list."
   ]
  },
  {
   "cell_type": "code",
   "execution_count": null,
   "metadata": {
    "collapsed": true
   },
   "outputs": [],
   "source": [
    "print(the_pythons[:3], the_pythons[1:])"
   ]
  },
  {
   "cell_type": "markdown",
   "metadata": {},
   "source": [
    "<hr style=\"width:50%;height:4px;border-width:0;color:gray;background-color:#003d59; opacity:0.5\"> "
   ]
  },
  {
   "cell_type": "markdown",
   "metadata": {},
   "source": [
    "### Exercise\n",
    "\n",
    "From the `parrots` list use indexing to return the elements\n",
    "\n",
    "`Macaw, Parakeet, Lorikeet, Norwegian Blue`\n"
   ]
  },
  {
   "cell_type": "code",
   "execution_count": null,
   "metadata": {
    "collapsed": true
   },
   "outputs": [],
   "source": [
    "# Exercise\n",
    "\n"
   ]
  },
  {
   "cell_type": "code",
   "execution_count": null,
   "metadata": {
    "collapsed": true
   },
   "outputs": [],
   "source": [
    "# Solution - These cells contain answers for the exercises.\n",
    "#Run once to reveal the code.\n",
    "#Run again to reveal the output. \n",
    "\n",
    "%load ../solutions/chapter_2/indexing_2.py\n"
   ]
  },
  {
   "cell_type": "markdown",
   "metadata": {},
   "source": [
    "<hr style=\"width:50%;height:4px;border-width:0;color:gray;background-color:#003d59; opacity:0.5\"> "
   ]
  },
  {
   "cell_type": "markdown",
   "metadata": {},
   "source": [
    "These methods also work for tuples.\n",
    "\n",
    "Using the `days_of_the_week` tuple we declared earlier, below I return, Wednesday, the week days and the weekend days."
   ]
  },
  {
   "cell_type": "code",
   "execution_count": 75,
   "metadata": {},
   "outputs": [
    {
     "name": "stdout",
     "output_type": "stream",
     "text": [
      "The element at index 2 is Wednesday\n",
      "The weekdays are: ('Monday', 'Tuesday', 'Wednesday', 'Thursday', 'Friday')\n",
      "The weekend days are: ('Saturday', 'Sunday')\n"
     ]
    }
   ],
   "source": [
    "print(\"The element at index 2 is\", days_of_the_week[2])\n",
    "print(\"The weekdays are:\", days_of_the_week[:5])\n",
    "print(\"The weekend days are:\", days_of_the_week[-2: ])"
   ]
  },
  {
   "cell_type": "markdown",
   "metadata": {},
   "source": [
    "### Non Sequential Items\n",
    "\n",
    "There's no direct inbuilt way of accessing non sequential items. In other languages like R this is simple to do; but not so much in python. \n",
    "\n",
    "We can use a function called `itemgetter` to do this This takes the indexes we want to retun - 2 and 5 and then the list.\n",
    "\n",
    "We also have to import the function from the package - again this will be explained later.\n",
    "\n",
    "You may not understand this code currently -it is shown as it's a common question from learners and has been added for completeness."
   ]
  },
  {
   "cell_type": "code",
   "execution_count": 76,
   "metadata": {},
   "outputs": [
    {
     "data": {
      "text/plain": [
       "('Gillam', 'Palin')"
      ]
     },
     "execution_count": 76,
     "metadata": {},
     "output_type": "execute_result"
    }
   ],
   "source": [
    "from operator import itemgetter\n",
    "itemgetter(2, 5)(the_pythons)"
   ]
  },
  {
   "cell_type": "markdown",
   "metadata": {},
   "source": [
    "<hr style=\"width:75%;height:4px;border-width:0;color:gray;background-color:#003d59; opacity:0.75\"> "
   ]
  },
  {
   "cell_type": "markdown",
   "metadata": {},
   "source": [
    "## Indexing a Dictionary\n",
    "\n",
    "Indexing a dictionary is slightly different from indexing a list.\n",
    "\n",
    "As dictionaries are unordered data – they do not have a numerical index, like our lists and tuples.\n",
    "\n",
    "We use our square brackets; and instead give the Key for the value we wish to return.\n"
   ]
  },
  {
   "cell_type": "code",
   "execution_count": 77,
   "metadata": {},
   "outputs": [
    {
     "data": {
      "text/plain": [
       "'Brian Cohen'"
      ]
     },
     "execution_count": 77,
     "metadata": {},
     "output_type": "execute_result"
    }
   ],
   "source": [
    "brian_information[\"name\"]"
   ]
  },
  {
   "cell_type": "markdown",
   "metadata": {},
   "source": [
    "<hr style=\"width:75%;height:4px;border-width:0;color:gray;background-color:#003d59; opacity:0.75\"> "
   ]
  },
  {
   "cell_type": "markdown",
   "metadata": {},
   "source": [
    "### Accessing Functions, Methods and Attributes"
   ]
  },
  {
   "cell_type": "markdown",
   "metadata": {},
   "source": [
    "Unlike other programming languages we can perform actions, or get information from Python in a variety of ways\n",
    "* Functions\n",
    "* Methods\n",
    "* Attributes\n"
   ]
  },
  {
   "cell_type": "markdown",
   "metadata": {},
   "source": [
    "** Functions **\n",
    "\n",
    "Functions are pieces of code that are called by name. They are a set of statements that take inputs, do something to it, and produce an output. The concept is that we can perform a commonly done or repeated task by just calling the function.\n",
    "\n",
    "\n",
    "We’ll look at how we can define our own functions at the end of the chapter 7.\n",
    "\n",
    "For now let’s have a look at some of the [inbuilt functions]( https://docs.python.org/3.3/library/functions.html) in Python.\n",
    "\n",
    "We’ve already seen \n",
    "* `type()`  - tells us the kind of object we put within the brackets. \n",
    "* `int()`, `float()`, `str()` - for type conversion\n",
    "\n",
    "<hr style=\"width:50%;height:4px;border-width:0;color:gray;background-color:#003d59; opacity:0.5\"> \n",
    "\n",
    "### Exercise\n",
    "Try running `len()` on the list `the_pythons`. \n",
    "\n",
    "Can you work out what the output is? \n",
    "\n",
    "Try running it on another list."
   ]
  },
  {
   "cell_type": "code",
   "execution_count": 78,
   "metadata": {},
   "outputs": [
    {
     "name": "stdout",
     "output_type": "stream",
     "text": [
      "Variable            Type      Data/Info\n",
      "---------------------------------------\n",
      "a                   str       3\n",
      "age                 int       29\n",
      "brian_information   dict      n=4\n",
      "days_of_the_week    tuple     n=7\n",
      "football_clubs      dict      n=6\n",
      "height              float     1.6\n",
      "hobbies             list      n=4\n",
      "itemgetter          type      <class 'operator.itemgetter'>\n",
      "name                str       Hannah\n",
      "np                  module    <module 'numpy' from 'C:\\<...>ges\\\\numpy\\\\__init__.py'>\n",
      "parrots             list      n=6\n",
      "pets                tuple     n=5\n",
      "pi                  float     3.14159\n",
      "the_pythons         list      n=6\n",
      "y                   int       26\n"
     ]
    }
   ],
   "source": [
    "%whos"
   ]
  },
  {
   "cell_type": "code",
   "execution_count": 81,
   "metadata": {},
   "outputs": [
    {
     "data": {
      "text/plain": [
       "5"
      ]
     },
     "execution_count": 81,
     "metadata": {},
     "output_type": "execute_result"
    }
   ],
   "source": [
    "# Exercise\n",
    "len(pets)\n"
   ]
  },
  {
   "cell_type": "code",
   "execution_count": null,
   "metadata": {
    "collapsed": true
   },
   "outputs": [],
   "source": [
    "# Solution - These cells contain answers for the exercises.\n",
    "#Run once to reveal the code.\n",
    "#Run again to reveal the output. \n",
    "\n",
    "%load ../solutions/chapter_2/functions_1.py\n"
   ]
  },
  {
   "cell_type": "markdown",
   "metadata": {},
   "source": [
    "<hr style=\"width:50%;height:4px;border-width:0;color:gray;background-color:#003d59; opacity:0.5\"> "
   ]
  },
  {
   "cell_type": "markdown",
   "metadata": {},
   "source": [
    "** Methods and attributes **\n",
    "\n",
    "Methods and attributes relate to the objects that we perform them on.\n",
    "\n",
    "Each object has it’s own methods and attributes that relate to that object.\n",
    "\n",
    "For example, we can use the method `.sort()` on our `parrots` list we created earlier.\n",
    "\n",
    "* **Firstly ** we tell python the object we want to work on – here by giving the variable/identifier `parrots`.\n",
    "* ** Secondly ** we use the full stop or “dot notation”\n",
    "* ** Thirdly** we call our method – here ` sort` and finish it with round brackets\n"
   ]
  },
  {
   "cell_type": "code",
   "execution_count": 82,
   "metadata": {},
   "outputs": [
    {
     "data": {
      "text/plain": [
       "['Cockatoo', 'Conure', 'Lorikeet', 'Macaw', 'Norwegian Blue', 'Parakeet']"
      ]
     },
     "execution_count": 82,
     "metadata": {},
     "output_type": "execute_result"
    }
   ],
   "source": [
    "# A reminder of how we created the original list\n",
    "parrots = [\"Cockatoo\" , \"Macaw\", \"Parakeet\", \"Lorikeet\", \"Norwegian Blue\", \"Conure\"]\n",
    "\n",
    "# Use the sort method to sort the list\n",
    "\n",
    "parrots.sort()\n",
    "\n",
    "# Print out the parrots list to see what's happened.\n",
    "parrots"
   ]
  },
  {
   "cell_type": "markdown",
   "metadata": {},
   "source": [
    "Here we’re using a method that does not have any mandatory parameters – we’ll look at how you can find out what parameters a method or function has in the next chapter.\n",
    "\n",
    "As it has no mandatory parameters we complete the method by opening and closing round brackets.\n",
    "\n",
    "Let’s try using `.extend()` on the `parrots` list we created earlier.\n",
    "`.extend()` adds items to our list.\n",
    "\n",
    "* **1st** We create a new list, with the objects we want to add.\n",
    "* ** 2nd ** We tell python the object we want to work on – here by giving the variable/identifier parrots.\n",
    "* ** 3rd ** We use the full stop or “dot notation”\n",
    "* ** 4th** We call our method – here ` extend` and open our round brackets\n",
    "* ** 5th** We need to tell the method what to add - the list we created earlier. We put this in the round brackets.\n"
   ]
  },
  {
   "cell_type": "code",
   "execution_count": 84,
   "metadata": {},
   "outputs": [
    {
     "data": {
      "text/plain": [
       "['Cockatoo',\n",
       " 'Conure',\n",
       " 'Lorikeet',\n",
       " 'Macaw',\n",
       " 'Norwegian Blue',\n",
       " 'Parakeet',\n",
       " 'Lovebird',\n",
       " 'Kea',\n",
       " 'Rosella',\n",
       " 'Lovebird',\n",
       " 'Kea',\n",
       " 'Rosella']"
      ]
     },
     "execution_count": 84,
     "metadata": {},
     "output_type": "execute_result"
    }
   ],
   "source": [
    "# Create a new list with more birds\n",
    "\n",
    "more_parrots = [\"Lovebird\", \"Kea\", \"Rosella\"]\n",
    "\n",
    "# Use the extend method to add the new list more_parrots to our parrots list\n",
    "\n",
    "parrots.extend(more_parrots)\n",
    "\n",
    "# Print out the parrots list to see what's happened.\n",
    "parrots"
   ]
  },
  {
   "cell_type": "markdown",
   "metadata": {},
   "source": [
    "<hr style=\"width:50%;height:4px;border-width:0;color:gray;background-color:#003d59; opacity:0.5\"> "
   ]
  },
  {
   "cell_type": "markdown",
   "metadata": {},
   "source": [
    "### Exercise\n",
    "Use the `.pop()` method on the `parrots` list to remove the value `Norwegian Blue`\n",
    "\n",
    "`.pop()` removes an item from a list.\n",
    "\n",
    "This takes one parameter; the argument you’ll need is the index position of the thing you wish to remove.\n"
   ]
  },
  {
   "cell_type": "code",
   "execution_count": 85,
   "metadata": {},
   "outputs": [
    {
     "data": {
      "text/plain": [
       "['Cockatoo',\n",
       " 'Conure',\n",
       " 'Lorikeet',\n",
       " 'Macaw',\n",
       " 'Norwegian Blue',\n",
       " 'Parakeet',\n",
       " 'Lovebird',\n",
       " 'Kea',\n",
       " 'Rosella',\n",
       " 'Lovebird',\n",
       " 'Kea',\n",
       " 'Rosella']"
      ]
     },
     "execution_count": 85,
     "metadata": {},
     "output_type": "execute_result"
    }
   ],
   "source": [
    "# Run this cell to print out parrots again - it may help you find what index you need to .pop!\n",
    "\n",
    "parrots"
   ]
  },
  {
   "cell_type": "code",
   "execution_count": 88,
   "metadata": {},
   "outputs": [
    {
     "data": {
      "text/plain": [
       "'Parakeet'"
      ]
     },
     "execution_count": 88,
     "metadata": {},
     "output_type": "execute_result"
    }
   ],
   "source": [
    "# Exercise\n",
    "parrots.pop(4)\n"
   ]
  },
  {
   "cell_type": "code",
   "execution_count": 89,
   "metadata": {},
   "outputs": [
    {
     "data": {
      "text/plain": [
       "['Cockatoo',\n",
       " 'Conure',\n",
       " 'Lorikeet',\n",
       " 'Macaw',\n",
       " 'Lovebird',\n",
       " 'Kea',\n",
       " 'Rosella',\n",
       " 'Lovebird',\n",
       " 'Kea',\n",
       " 'Rosella']"
      ]
     },
     "execution_count": 89,
     "metadata": {},
     "output_type": "execute_result"
    }
   ],
   "source": [
    "parrots"
   ]
  },
  {
   "cell_type": "code",
   "execution_count": null,
   "metadata": {
    "collapsed": true
   },
   "outputs": [],
   "source": [
    "# Solution - These cells contain answers for the exercises.\n",
    "# Run once to reveal the code.\n",
    "# Run again to reveal the output. \n",
    "\n",
    "%load ../solutions/chapter_2/methods_1.py"
   ]
  },
  {
   "cell_type": "markdown",
   "metadata": {},
   "source": [
    "<hr style=\"width:50%;height:4px;border-width:0;color:gray;background-color:#003d59; opacity:0.5\"> "
   ]
  },
  {
   "cell_type": "markdown",
   "metadata": {},
   "source": [
    "** Attributes **\n",
    "\n",
    "Sometimes we’ll want to find something out about an object. If something is descriptive about an object, we’ll often use attributes to return information.\n",
    "\n",
    "Attributes are called like methods, using dot notation. However, they do *not* have round brackets.\n",
    "e.g.\n",
    "\n",
    "`my_dataframe.shape`\n",
    "\n",
    "We’ll look at attributes more when we look at data frames in chapter four.\n",
    "\n",
    "We’ll also get a lot more practice using functions, methods and attributes throughout this course."
   ]
  },
  {
   "cell_type": "markdown",
   "metadata": {},
   "source": [
    "<hr style=\"width:75%;height:4px;border-width:0;color:gray;background-color:#003d59; opacity:0.75\"> "
   ]
  },
  {
   "cell_type": "markdown",
   "metadata": {},
   "source": [
    "## What methods and attributes can I use?\n",
    "\n",
    "To find the methods and attributes for an object you can use\n"
   ]
  },
  {
   "cell_type": "code",
   "execution_count": 91,
   "metadata": {},
   "outputs": [
    {
     "data": {
      "text/plain": [
       "['__add__',\n",
       " '__class__',\n",
       " '__contains__',\n",
       " '__delattr__',\n",
       " '__dir__',\n",
       " '__doc__',\n",
       " '__eq__',\n",
       " '__format__',\n",
       " '__ge__',\n",
       " '__getattribute__',\n",
       " '__getitem__',\n",
       " '__getnewargs__',\n",
       " '__gt__',\n",
       " '__hash__',\n",
       " '__init__',\n",
       " '__init_subclass__',\n",
       " '__iter__',\n",
       " '__le__',\n",
       " '__len__',\n",
       " '__lt__',\n",
       " '__mul__',\n",
       " '__ne__',\n",
       " '__new__',\n",
       " '__reduce__',\n",
       " '__reduce_ex__',\n",
       " '__repr__',\n",
       " '__rmul__',\n",
       " '__setattr__',\n",
       " '__sizeof__',\n",
       " '__str__',\n",
       " '__subclasshook__',\n",
       " 'count',\n",
       " 'index']"
      ]
     },
     "execution_count": 91,
     "metadata": {},
     "output_type": "execute_result"
    }
   ],
   "source": [
    "dir(days_of_the_week)"
   ]
  },
  {
   "cell_type": "markdown",
   "metadata": {},
   "source": [
    "This function returns the attributes and methods of a specified object, here a list.\n",
    "\n",
    "It doesn’t tell you if something is an attribute or a property, and it doesn’t give you any values to pass to the methods; but can be useful to see if something you want to do has a function or method that looks about right. When combined with the help documentation we’ll see later you can explore these methods and attributes in more detail."
   ]
  },
  {
   "cell_type": "markdown",
   "metadata": {},
   "source": [
    "[return to menu](#menu)"
   ]
  },
  {
   "cell_type": "markdown",
   "metadata": {},
   "source": [
    "<a id='pandas_objects'></a>\n",
    "<hr style=\"width:100%;height:4px;border-width:0;color:gray;background-color:#003d59; opacity:1\"> "
   ]
  },
  {
   "cell_type": "code",
   "execution_count": 2,
   "metadata": {},
   "outputs": [
    {
     "name": "stdout",
     "output_type": "stream",
     "text": [
      "Interactive namespace is empty.\n"
     ]
    }
   ],
   "source": [
    "%whos"
   ]
  },
  {
   "cell_type": "markdown",
   "metadata": {},
   "source": [
    "## Pandas Objects"
   ]
  },
  {
   "cell_type": "markdown",
   "metadata": {},
   "source": [
    "`pandas` is a Python library originally written by Wes McKinney, and is the most preferred, most used tool when data wrangling tabular data within Python.\n",
    "\n",
    "We will use the `pandas` library a lot throughout this course.\n",
    "\n",
    "`pandas` is a Python library, which are often refered to as \"packages\"."
   ]
  },
  {
   "cell_type": "markdown",
   "metadata": {},
   "source": [
    "<hr style=\"width:75%;height:4px;border-width:0;color:gray;background-color:#003d59; opacity:0.75\"> "
   ]
  },
  {
   "cell_type": "markdown",
   "metadata": {},
   "source": [
    "### Packages"
   ]
  },
  {
   "cell_type": "markdown",
   "metadata": {},
   "source": [
    "Packages are a collection of functions, objects and compiled code which are stored in a “library” of code within Python.\n",
    "\n",
    "Our Anaconda installation gives us access to quite a few packages \"out of the box\". \n",
    "\n",
    "ONS users may have Anaconda 4.4.0 - see a full list of [default anaconda 4.4.0 packages]( https://docs.anaconda.com/anaconda/packages/old-pkg-lists/4.4.0/py35/)\n",
    "\n",
    "Or may have Anaconda 2020.07 - see a full list of [default anaconda 2020.07 packages](https://docs.anaconda.com/anaconda/packages/old-pkg-lists/2020.07/py3.6_win-32/)\n",
    "\n",
    "You can find the default packages for other versions [at this link](https://docs.anaconda.com/anaconda/packages/oldpkglists/). You can also do this in jupyter by running the code `! conda list`\n",
    "\n",
    "All the packages we use for this course are already downloaded as part of the Anaconda distribution.\n",
    "\n",
    "You can check your version of Python and your version of Anaconda by using the following comands. The `!` allows us to access command line commands in Jupyter."
   ]
  },
  {
   "cell_type": "code",
   "execution_count": 1,
   "metadata": {},
   "outputs": [
    {
     "name": "stdout",
     "output_type": "stream",
     "text": [
      "Python Version 3.8.3\n",
      "Anaconda Version\n",
      "# packages in environment at C:\\Users\\hodgeh\\Anaconda3:\n",
      "#\n",
      "# Name                    Version                   Build  Channel\n",
      "anaconda                  2020.07                  py38_0    https://repo.anaconda.com/pkgs/main\n"
     ]
    }
   ],
   "source": [
    "from platform import python_version\n",
    "print(\"Python Version\", python_version())\n",
    "print(\"Anaconda Version\")\n",
    "!conda list anaconda$"
   ]
  },
  {
   "cell_type": "markdown",
   "metadata": {},
   "source": [
    "For installing packages that are not included within the Anaconda distribution there are a few options. The most popular being `pip` and `conda`.  Python packages can be found on PyPi [(the Python Package Index)]( https://pypi.org/), as well as being shared by colleagues or downloaded from the internet. Caution should be taken when using the latter, as there could be malicious software in the bundle.\n",
    "\n",
    "Within ONS our packages are hosted on a mirrored version of PyPi called “Artifactory”. This may be familiar to you if you use R. Please see the instructions on Yammer [here](https://www.yammer.com/ons.gov.uk/#/Threads/show?threadId=131432635932672&search_origin=global&scoring=linear1Y-prankie-group-private-higher&match=any-exact&search_sort=relevance&page=1&search=pip.ini) for installing additional \n",
    "packages.\n",
    "\n",
    "Other government departments have their own rules regarding installation of packages, please contact your IT department or Data Science department for guidance."
   ]
  },
  {
   "cell_type": "markdown",
   "metadata": {},
   "source": [
    "<hr style=\"width:75%;height:4px;border-width:0;color:gray;background-color:#003d59; opacity:0.75\"> "
   ]
  },
  {
   "cell_type": "markdown",
   "metadata": {},
   "source": [
    "### Importing Pandas"
   ]
  },
  {
   "cell_type": "markdown",
   "metadata": {},
   "source": [
    "In order to use the functionality of the Pandas package within our Python code; we first need to import it.\n",
    "\n",
    "We need to import our packages in every script we write.\n",
    "\n",
    "You should always import the packages you’re going to use at the very ** top ** of your script.\n",
    "\n",
    "As we mentioned in the last chapter, we have already downloaded the packages we need for this course – they come bundled with the Anaconda Suite.\n",
    "\n",
    "To use the functions within a package we need to import it by using an import statement:"
   ]
  },
  {
   "cell_type": "code",
   "execution_count": 4,
   "metadata": {
    "collapsed": true
   },
   "outputs": [],
   "source": [
    "import pandas as pd"
   ]
  },
  {
   "cell_type": "code",
   "execution_count": 5,
   "metadata": {},
   "outputs": [
    {
     "name": "stdout",
     "output_type": "stream",
     "text": [
      "Variable         Type        Data/Info\n",
      "--------------------------------------\n",
      "pd               module      <module 'pandas' from 'C:<...>es\\\\pandas\\\\__init__.py'>\n",
      "python_version   function    <function python_version at 0x000001768BC37950>\n"
     ]
    }
   ],
   "source": [
    "%whos"
   ]
  },
  {
   "cell_type": "markdown",
   "metadata": {},
   "source": [
    "When we import a package we don't get any feedback it's worked. The cell will change from a green to blue, and the line number will increase.\n",
    "\n",
    "* We start by using the key word `import` - this is a reserved word in Python, you can see the syntax highlighting, it is now bold and green.\n",
    "\n",
    "\n",
    "* We then give the package name\n",
    "\n",
    "\n",
    "* The keyword `as` allows us to give a nickname to the package\n",
    "\n",
    "\n",
    "* Which here is `pd`\n",
    "\n",
    "We don’t have to give nicknames to packages; however, it’s a very common standard; that saves us some typing. We’ll often need to reference the package containing the function; e.g `pd.Series()` - which is much faster than `pandas.Series`().\n"
   ]
  },
  {
   "cell_type": "markdown",
   "metadata": {},
   "source": [
    "<hr style=\"width:75%;height:4px;border-width:0;color:gray;background-color:#003d59; opacity:0.75\"> "
   ]
  },
  {
   "cell_type": "markdown",
   "metadata": {},
   "source": [
    "### Checking Package Versions"
   ]
  },
  {
   "cell_type": "markdown",
   "metadata": {},
   "source": [
    "All packages have versions; this allows code to be updated, extended or modified as time goes on.\n",
    "\n",
    "\n",
    "For reproducibility purposes, as well as searching for help it can be important to know which version of a package you’re using.\n",
    "\n",
    "\n",
    "Most packages follow the PEP8 guidelines we talked about previously and allow you to find the version of a package using the command."
   ]
  },
  {
   "cell_type": "code",
   "execution_count": 6,
   "metadata": {},
   "outputs": [
    {
     "data": {
      "text/plain": [
       "'0.20.1'"
      ]
     },
     "execution_count": 6,
     "metadata": {},
     "output_type": "execute_result"
    }
   ],
   "source": [
    "pd.__version__ \n",
    "\n",
    "# Note here there's TWO underscores before *and* after version."
   ]
  },
  {
   "cell_type": "code",
   "execution_count": 7,
   "metadata": {},
   "outputs": [
    {
     "ename": "NameError",
     "evalue": "name 'np' is not defined",
     "output_type": "error",
     "traceback": [
      "\u001b[1;31m---------------------------------------------------------------------------\u001b[0m",
      "\u001b[1;31mNameError\u001b[0m                                 Traceback (most recent call last)",
      "\u001b[1;32m<ipython-input-7-8b93ebb06dfa>\u001b[0m in \u001b[0;36m<module>\u001b[1;34m()\u001b[0m\n\u001b[1;32m----> 1\u001b[1;33m \u001b[0mnp\u001b[0m\u001b[1;33m.\u001b[0m\u001b[0m__version__\u001b[0m\u001b[1;33m\u001b[0m\u001b[0m\n\u001b[0m",
      "\u001b[1;31mNameError\u001b[0m: name 'np' is not defined"
     ]
    }
   ],
   "source": [
    "np.__version__"
   ]
  },
  {
   "cell_type": "markdown",
   "metadata": {
    "collapsed": true
   },
   "source": [
    "Within ONS our current version of Pandas is `0.20.1. `\n",
    "\n",
    "All course material is designed to work with this version of Pandas.\n",
    "\n",
    "If you have an older version you may find some parts may not work. \n",
    "\n",
    "If you have a more modern version you may find some small changes; like different parameter names or possibly more streamlined ways to write certain parts of code.\n",
    "\n",
    "Most versions are backwards compatible so should function as expected."
   ]
  },
  {
   "cell_type": "markdown",
   "metadata": {},
   "source": [
    "<hr style=\"width:75%;height:4px;border-width:0;color:gray;background-color:#003d59; opacity:0.75\"> "
   ]
  },
  {
   "cell_type": "markdown",
   "metadata": {},
   "source": [
    "### Series"
   ]
  },
  {
   "cell_type": "markdown",
   "metadata": {},
   "source": [
    "Pandas gives us two new object types.\n",
    "\n",
    "`Series` are\n",
    "\n",
    "* One dimensional arrays\n",
    "* Act like columns in a spreadsheet\n",
    "* Must have items of the same type (int, float or str)\n",
    "* Has a series index – defaults to start at 0\n",
    "\n",
    "\n",
    "Series have a large number of special methods and procedures associated with them; which we’ll explore in this course.\n"
   ]
  },
  {
   "cell_type": "code",
   "execution_count": 8,
   "metadata": {
    "scrolled": true
   },
   "outputs": [
    {
     "data": {
      "text/plain": [
       "0    And Now For Something Completely Different\n",
       "1               Monty Python and the Holy Grail\n",
       "2                  Monty Python's Life of Brian\n",
       "3       Monty Python Live at the Hollywood Bowl\n",
       "4                Monty Python's Meaning of Life\n",
       "5                    Monty Python Live (Mostly)\n",
       "dtype: object"
      ]
     },
     "execution_count": 8,
     "metadata": {},
     "output_type": "execute_result"
    }
   ],
   "source": [
    "# I'm manually creating a Series here - we'll talk about why we don't teach this in a second.\n",
    "\n",
    "python_movies = pd.Series([\"And Now For Something Completely Different\",\n",
    "                           \"Monty Python and the Holy Grail\",\n",
    "                           \"Monty Python's Life of Brian\",\n",
    "                           \"Monty Python Live at the Hollywood Bowl\",\n",
    "                           \"Monty Python's Meaning of Life\",\n",
    "                           \"Monty Python Live (Mostly)\"])\n",
    "\n",
    "\n",
    "# Display the series below the cell.\n",
    "\n",
    "python_movies\n"
   ]
  },
  {
   "cell_type": "code",
   "execution_count": 10,
   "metadata": {},
   "outputs": [
    {
     "data": {
      "text/plain": [
       "['T',\n",
       " '_AXIS_ALIASES',\n",
       " '_AXIS_IALIASES',\n",
       " '_AXIS_LEN',\n",
       " '_AXIS_NAMES',\n",
       " '_AXIS_NUMBERS',\n",
       " '_AXIS_ORDERS',\n",
       " '_AXIS_REVERSED',\n",
       " '_AXIS_SLICEMAP',\n",
       " '__abs__',\n",
       " '__add__',\n",
       " '__and__',\n",
       " '__array__',\n",
       " '__array_prepare__',\n",
       " '__array_priority__',\n",
       " '__array_wrap__',\n",
       " '__bool__',\n",
       " '__bytes__',\n",
       " '__class__',\n",
       " '__contains__',\n",
       " '__copy__',\n",
       " '__deepcopy__',\n",
       " '__delattr__',\n",
       " '__delitem__',\n",
       " '__dict__',\n",
       " '__dir__',\n",
       " '__div__',\n",
       " '__divmod__',\n",
       " '__doc__',\n",
       " '__eq__',\n",
       " '__finalize__',\n",
       " '__float__',\n",
       " '__floordiv__',\n",
       " '__format__',\n",
       " '__ge__',\n",
       " '__getattr__',\n",
       " '__getattribute__',\n",
       " '__getitem__',\n",
       " '__getstate__',\n",
       " '__gt__',\n",
       " '__hash__',\n",
       " '__iadd__',\n",
       " '__imul__',\n",
       " '__init__',\n",
       " '__init_subclass__',\n",
       " '__int__',\n",
       " '__invert__',\n",
       " '__ipow__',\n",
       " '__isub__',\n",
       " '__iter__',\n",
       " '__itruediv__',\n",
       " '__le__',\n",
       " '__len__',\n",
       " '__long__',\n",
       " '__lt__',\n",
       " '__mod__',\n",
       " '__module__',\n",
       " '__mul__',\n",
       " '__ne__',\n",
       " '__neg__',\n",
       " '__new__',\n",
       " '__nonzero__',\n",
       " '__or__',\n",
       " '__pow__',\n",
       " '__radd__',\n",
       " '__rand__',\n",
       " '__rdiv__',\n",
       " '__reduce__',\n",
       " '__reduce_ex__',\n",
       " '__repr__',\n",
       " '__rfloordiv__',\n",
       " '__rmod__',\n",
       " '__rmul__',\n",
       " '__ror__',\n",
       " '__round__',\n",
       " '__rpow__',\n",
       " '__rsub__',\n",
       " '__rtruediv__',\n",
       " '__rxor__',\n",
       " '__setattr__',\n",
       " '__setitem__',\n",
       " '__setstate__',\n",
       " '__sizeof__',\n",
       " '__str__',\n",
       " '__sub__',\n",
       " '__subclasshook__',\n",
       " '__truediv__',\n",
       " '__unicode__',\n",
       " '__weakref__',\n",
       " '__xor__',\n",
       " '_accessors',\n",
       " '_add_numeric_operations',\n",
       " '_add_series_only_operations',\n",
       " '_add_series_or_dataframe_operations',\n",
       " '_agg_by_level',\n",
       " '_agg_doc',\n",
       " '_aggregate',\n",
       " '_aggregate_multiple_funcs',\n",
       " '_align_frame',\n",
       " '_align_series',\n",
       " '_allow_index_ops',\n",
       " '_at',\n",
       " '_binop',\n",
       " '_box_item_values',\n",
       " '_builtin_table',\n",
       " '_can_hold_na',\n",
       " '_check_inplace_setting',\n",
       " '_check_is_chained_assignment_possible',\n",
       " '_check_percentile',\n",
       " '_check_setitem_copy',\n",
       " '_clear_item_cache',\n",
       " '_consolidate',\n",
       " '_consolidate_inplace',\n",
       " '_construct_axes_dict',\n",
       " '_construct_axes_dict_for_slice',\n",
       " '_construct_axes_dict_from',\n",
       " '_construct_axes_from_arguments',\n",
       " '_constructor',\n",
       " '_constructor_expanddim',\n",
       " '_constructor_sliced',\n",
       " '_convert',\n",
       " '_create_indexer',\n",
       " '_cython_table',\n",
       " '_dir_additions',\n",
       " '_dir_deletions',\n",
       " '_expand_axes',\n",
       " '_from_axes',\n",
       " '_get_axis',\n",
       " '_get_axis_name',\n",
       " '_get_axis_number',\n",
       " '_get_axis_resolvers',\n",
       " '_get_block_manager_axis',\n",
       " '_get_bool_data',\n",
       " '_get_cacher',\n",
       " '_get_index_resolvers',\n",
       " '_get_item_cache',\n",
       " '_get_numeric_data',\n",
       " '_get_values',\n",
       " '_get_values_tuple',\n",
       " '_get_with',\n",
       " '_gotitem',\n",
       " '_iat',\n",
       " '_iget_item_cache',\n",
       " '_iloc',\n",
       " '_index',\n",
       " '_indexed_same',\n",
       " '_info_axis',\n",
       " '_info_axis_name',\n",
       " '_info_axis_number',\n",
       " '_init_mgr',\n",
       " '_internal_names',\n",
       " '_internal_names_set',\n",
       " '_is_builtin_func',\n",
       " '_is_cached',\n",
       " '_is_cython_func',\n",
       " '_is_datelike_mixed_type',\n",
       " '_is_mixed_type',\n",
       " '_is_numeric_mixed_type',\n",
       " '_is_view',\n",
       " '_ix',\n",
       " '_ixs',\n",
       " '_loc',\n",
       " '_make_cat_accessor',\n",
       " '_make_dt_accessor',\n",
       " '_make_str_accessor',\n",
       " '_maybe_cache_changed',\n",
       " '_maybe_update_cacher',\n",
       " '_metadata',\n",
       " '_needs_reindex_multi',\n",
       " '_obj_with_exclusions',\n",
       " '_protect_consolidate',\n",
       " '_reduce',\n",
       " '_reindex_axes',\n",
       " '_reindex_axis',\n",
       " '_reindex_indexer',\n",
       " '_reindex_multi',\n",
       " '_reindex_with_indexers',\n",
       " '_repr_data_resource_',\n",
       " '_reset_cache',\n",
       " '_reset_cacher',\n",
       " '_selected_obj',\n",
       " '_selection',\n",
       " '_selection_list',\n",
       " '_selection_name',\n",
       " '_set_as_cached',\n",
       " '_set_axis',\n",
       " '_set_axis_name',\n",
       " '_set_is_copy',\n",
       " '_set_item',\n",
       " '_set_labels',\n",
       " '_set_name',\n",
       " '_set_subtyp',\n",
       " '_set_values',\n",
       " '_set_with',\n",
       " '_set_with_engine',\n",
       " '_setup_axes',\n",
       " '_shallow_copy',\n",
       " '_slice',\n",
       " '_stat_axis',\n",
       " '_stat_axis_name',\n",
       " '_stat_axis_number',\n",
       " '_try_aggregate_string_function',\n",
       " '_typ',\n",
       " '_unpickle_series_compat',\n",
       " '_update_inplace',\n",
       " '_validate_dtype',\n",
       " '_values',\n",
       " '_where',\n",
       " '_xs',\n",
       " 'abs',\n",
       " 'add',\n",
       " 'add_prefix',\n",
       " 'add_suffix',\n",
       " 'agg',\n",
       " 'aggregate',\n",
       " 'align',\n",
       " 'all',\n",
       " 'any',\n",
       " 'append',\n",
       " 'apply',\n",
       " 'argmax',\n",
       " 'argmin',\n",
       " 'argsort',\n",
       " 'as_blocks',\n",
       " 'as_matrix',\n",
       " 'asfreq',\n",
       " 'asobject',\n",
       " 'asof',\n",
       " 'astype',\n",
       " 'at',\n",
       " 'at_time',\n",
       " 'autocorr',\n",
       " 'axes',\n",
       " 'base',\n",
       " 'between',\n",
       " 'between_time',\n",
       " 'bfill',\n",
       " 'blocks',\n",
       " 'bool',\n",
       " 'cat',\n",
       " 'clip',\n",
       " 'clip_lower',\n",
       " 'clip_upper',\n",
       " 'combine',\n",
       " 'combine_first',\n",
       " 'compound',\n",
       " 'compress',\n",
       " 'consolidate',\n",
       " 'convert_objects',\n",
       " 'copy',\n",
       " 'corr',\n",
       " 'count',\n",
       " 'cov',\n",
       " 'cummax',\n",
       " 'cummin',\n",
       " 'cumprod',\n",
       " 'cumsum',\n",
       " 'data',\n",
       " 'describe',\n",
       " 'diff',\n",
       " 'div',\n",
       " 'divide',\n",
       " 'dot',\n",
       " 'drop',\n",
       " 'drop_duplicates',\n",
       " 'dropna',\n",
       " 'dt',\n",
       " 'dtype',\n",
       " 'dtypes',\n",
       " 'duplicated',\n",
       " 'empty',\n",
       " 'eq',\n",
       " 'equals',\n",
       " 'ewm',\n",
       " 'expanding',\n",
       " 'factorize',\n",
       " 'ffill',\n",
       " 'fillna',\n",
       " 'filter',\n",
       " 'first',\n",
       " 'first_valid_index',\n",
       " 'flags',\n",
       " 'floordiv',\n",
       " 'from_array',\n",
       " 'from_csv',\n",
       " 'ftype',\n",
       " 'ftypes',\n",
       " 'ge',\n",
       " 'get',\n",
       " 'get_dtype_counts',\n",
       " 'get_ftype_counts',\n",
       " 'get_value',\n",
       " 'get_values',\n",
       " 'groupby',\n",
       " 'gt',\n",
       " 'hasnans',\n",
       " 'head',\n",
       " 'hist',\n",
       " 'iat',\n",
       " 'idxmax',\n",
       " 'idxmin',\n",
       " 'iloc',\n",
       " 'imag',\n",
       " 'index',\n",
       " 'interpolate',\n",
       " 'is_copy',\n",
       " 'is_monotonic',\n",
       " 'is_monotonic_decreasing',\n",
       " 'is_monotonic_increasing',\n",
       " 'is_unique',\n",
       " 'isin',\n",
       " 'isnull',\n",
       " 'item',\n",
       " 'items',\n",
       " 'itemsize',\n",
       " 'iteritems',\n",
       " 'ix',\n",
       " 'keys',\n",
       " 'kurt',\n",
       " 'kurtosis',\n",
       " 'last',\n",
       " 'last_valid_index',\n",
       " 'le',\n",
       " 'loc',\n",
       " 'lt',\n",
       " 'mad',\n",
       " 'map',\n",
       " 'mask',\n",
       " 'max',\n",
       " 'mean',\n",
       " 'median',\n",
       " 'memory_usage',\n",
       " 'min',\n",
       " 'mod',\n",
       " 'mode',\n",
       " 'mul',\n",
       " 'multiply',\n",
       " 'name',\n",
       " 'nbytes',\n",
       " 'ndim',\n",
       " 'ne',\n",
       " 'nlargest',\n",
       " 'nonzero',\n",
       " 'notnull',\n",
       " 'nsmallest',\n",
       " 'nunique',\n",
       " 'pct_change',\n",
       " 'pipe',\n",
       " 'plot',\n",
       " 'pop',\n",
       " 'pow',\n",
       " 'prod',\n",
       " 'product',\n",
       " 'ptp',\n",
       " 'put',\n",
       " 'quantile',\n",
       " 'radd',\n",
       " 'rank',\n",
       " 'ravel',\n",
       " 'rdiv',\n",
       " 'real',\n",
       " 'reindex',\n",
       " 'reindex_axis',\n",
       " 'reindex_like',\n",
       " 'rename',\n",
       " 'rename_axis',\n",
       " 'reorder_levels',\n",
       " 'repeat',\n",
       " 'replace',\n",
       " 'resample',\n",
       " 'reset_index',\n",
       " 'reshape',\n",
       " 'rfloordiv',\n",
       " 'rmod',\n",
       " 'rmul',\n",
       " 'rolling',\n",
       " 'round',\n",
       " 'rpow',\n",
       " 'rsub',\n",
       " 'rtruediv',\n",
       " 'sample',\n",
       " 'searchsorted',\n",
       " 'select',\n",
       " 'sem',\n",
       " 'set_axis',\n",
       " 'set_value',\n",
       " 'shape',\n",
       " 'shift',\n",
       " 'size',\n",
       " 'skew',\n",
       " 'slice_shift',\n",
       " 'sort_index',\n",
       " 'sort_values',\n",
       " 'sortlevel',\n",
       " 'squeeze',\n",
       " 'std',\n",
       " 'str',\n",
       " 'strides',\n",
       " 'sub',\n",
       " 'subtract',\n",
       " 'sum',\n",
       " 'swapaxes',\n",
       " 'swaplevel',\n",
       " 'tail',\n",
       " 'take',\n",
       " 'to_clipboard',\n",
       " 'to_csv',\n",
       " 'to_dense',\n",
       " 'to_dict',\n",
       " 'to_excel',\n",
       " 'to_frame',\n",
       " 'to_hdf',\n",
       " 'to_json',\n",
       " 'to_msgpack',\n",
       " 'to_period',\n",
       " 'to_pickle',\n",
       " 'to_sparse',\n",
       " 'to_sql',\n",
       " 'to_string',\n",
       " 'to_timestamp',\n",
       " 'to_xarray',\n",
       " 'tolist',\n",
       " 'transform',\n",
       " 'transpose',\n",
       " 'truediv',\n",
       " 'truncate',\n",
       " 'tshift',\n",
       " 'tz_convert',\n",
       " 'tz_localize',\n",
       " 'unique',\n",
       " 'unstack',\n",
       " 'update',\n",
       " 'valid',\n",
       " 'value_counts',\n",
       " 'values',\n",
       " 'var',\n",
       " 'view',\n",
       " 'where',\n",
       " 'xs']"
      ]
     },
     "execution_count": 10,
     "metadata": {},
     "output_type": "execute_result"
    }
   ],
   "source": [
    "dir(pd.Series)"
   ]
  },
  {
   "cell_type": "code",
   "execution_count": 11,
   "metadata": {},
   "outputs": [
    {
     "data": {
      "text/plain": [
       "['__add__',\n",
       " '__class__',\n",
       " '__contains__',\n",
       " '__delattr__',\n",
       " '__delitem__',\n",
       " '__dir__',\n",
       " '__doc__',\n",
       " '__eq__',\n",
       " '__format__',\n",
       " '__ge__',\n",
       " '__getattribute__',\n",
       " '__getitem__',\n",
       " '__gt__',\n",
       " '__hash__',\n",
       " '__iadd__',\n",
       " '__imul__',\n",
       " '__init__',\n",
       " '__init_subclass__',\n",
       " '__iter__',\n",
       " '__le__',\n",
       " '__len__',\n",
       " '__lt__',\n",
       " '__mul__',\n",
       " '__ne__',\n",
       " '__new__',\n",
       " '__reduce__',\n",
       " '__reduce_ex__',\n",
       " '__repr__',\n",
       " '__reversed__',\n",
       " '__rmul__',\n",
       " '__setattr__',\n",
       " '__setitem__',\n",
       " '__sizeof__',\n",
       " '__str__',\n",
       " '__subclasshook__',\n",
       " 'append',\n",
       " 'clear',\n",
       " 'copy',\n",
       " 'count',\n",
       " 'extend',\n",
       " 'index',\n",
       " 'insert',\n",
       " 'pop',\n",
       " 'remove',\n",
       " 'reverse',\n",
       " 'sort']"
      ]
     },
     "execution_count": 11,
     "metadata": {},
     "output_type": "execute_result"
    }
   ],
   "source": [
    "dir(list())"
   ]
  },
  {
   "cell_type": "markdown",
   "metadata": {},
   "source": [
    "<hr style=\"width:75%;height:4px;border-width:0;color:gray;background-color:#003d59; opacity:0.75\"> "
   ]
  },
  {
   "cell_type": "markdown",
   "metadata": {},
   "source": [
    "### DataFrames"
   ]
  },
  {
   "cell_type": "markdown",
   "metadata": {},
   "source": [
    "`DataFrames` are\n",
    "\n",
    "* A two dimensional version of the series object\n",
    "* Like a whole spreadsheet\n",
    "* Essentially a collection of series objects (one series per column)\n",
    "\n",
    "where\n",
    "\n",
    "* A column can only have one data type\n",
    "* Each column can have a different data type\n",
    "* The dimensions are labelled similarly to a series object\n",
    "\t* **index** refers to the row labels – and defaults to starting at 0\n",
    "\t* **columns** refers to the column labels – or headers.\n",
    "\n",
    "The `DataFrames` will have some of the same methods as `Series` and some different."
   ]
  },
  {
   "cell_type": "code",
   "execution_count": 9,
   "metadata": {},
   "outputs": [
    {
     "data": {
      "text/html": [
       "<div>\n",
       "<style>\n",
       "    .dataframe thead tr:only-child th {\n",
       "        text-align: right;\n",
       "    }\n",
       "\n",
       "    .dataframe thead th {\n",
       "        text-align: left;\n",
       "    }\n",
       "\n",
       "    .dataframe tbody tr th {\n",
       "        vertical-align: top;\n",
       "    }\n",
       "</style>\n",
       "<table border=\"1\" class=\"dataframe\">\n",
       "  <thead>\n",
       "    <tr style=\"text-align: right;\">\n",
       "      <th></th>\n",
       "      <th>film_name</th>\n",
       "      <th>live</th>\n",
       "      <th>year</th>\n",
       "    </tr>\n",
       "  </thead>\n",
       "  <tbody>\n",
       "    <tr>\n",
       "      <th>0</th>\n",
       "      <td>And Now For Something Completely Different</td>\n",
       "      <td>False</td>\n",
       "      <td>1971</td>\n",
       "    </tr>\n",
       "    <tr>\n",
       "      <th>1</th>\n",
       "      <td>Monty Python and the Holy Grail</td>\n",
       "      <td>False</td>\n",
       "      <td>1975</td>\n",
       "    </tr>\n",
       "    <tr>\n",
       "      <th>2</th>\n",
       "      <td>Monty Python's Life of Brian</td>\n",
       "      <td>False</td>\n",
       "      <td>1979</td>\n",
       "    </tr>\n",
       "    <tr>\n",
       "      <th>3</th>\n",
       "      <td>Monty Python Live at the Hollywood Bowl</td>\n",
       "      <td>False</td>\n",
       "      <td>1982</td>\n",
       "    </tr>\n",
       "    <tr>\n",
       "      <th>4</th>\n",
       "      <td>Monty Python's Meaning of Life</td>\n",
       "      <td>False</td>\n",
       "      <td>1983</td>\n",
       "    </tr>\n",
       "    <tr>\n",
       "      <th>5</th>\n",
       "      <td>Monty Python Live (Mostly)</td>\n",
       "      <td>True</td>\n",
       "      <td>2014</td>\n",
       "    </tr>\n",
       "  </tbody>\n",
       "</table>\n",
       "</div>"
      ],
      "text/plain": [
       "                                    film_name   live  year\n",
       "0  And Now For Something Completely Different  False  1971\n",
       "1             Monty Python and the Holy Grail  False  1975\n",
       "2                Monty Python's Life of Brian  False  1979\n",
       "3     Monty Python Live at the Hollywood Bowl  False  1982\n",
       "4              Monty Python's Meaning of Life  False  1983\n",
       "5                  Monty Python Live (Mostly)   True  2014"
      ]
     },
     "execution_count": 9,
     "metadata": {},
     "output_type": "execute_result"
    }
   ],
   "source": [
    "# First I'm setting up some Series of data to be my columns.\n",
    "# Note these are in the same order as python_movies\n",
    "# python_movies already exists from my previous cell so I can recycle it\n",
    "\n",
    "python_live = pd.Series([False, False, False, False, False, True])\n",
    "python_year = pd.Series([1971, 1975, 1979, 1982, 1983, 2014])\n",
    "\n",
    "# Now I'll create my Dataframe\n",
    "\n",
    "python_movies_df = pd.DataFrame({\"film_name\": python_movies,\n",
    "                                 \"live\": python_live, \n",
    "                                 \"year\": python_year})\n",
    "\n",
    "# This is passing a dictionary { } to the pd.DataFrame command.\n",
    "# In the dictionary I have each column header (as a string) and then the Series data.\n",
    "# These are seperated by a colon - like we saw earlier.\n",
    " \n",
    "# then print out the Data Frame\n",
    "\n",
    "python_movies_df"
   ]
  },
  {
   "cell_type": "markdown",
   "metadata": {},
   "source": [
    "### Why are we not creating series and data frames?\n",
    "\n",
    "In this course we don’t manually create `Series` or `DataFrame` objects within Python.\n",
    "\n",
    "When we work in Python we’re often reading in data from files; very rarely do we create the data we want from scratch.  It can be a useful skill to know – and if you wish to extend your knowledge [here]( https://pandas.pydata.org/pandas-docs/stable/getting_started/dsintro.html) is a short tutorial.\n"
   ]
  },
  {
   "cell_type": "markdown",
   "metadata": {},
   "source": [
    "[return to menu](#menu)"
   ]
  },
  {
   "cell_type": "markdown",
   "metadata": {},
   "source": [
    "<a id='help'></a>\n",
    "<hr style=\"width:100%;height:4px;border-width:0;color:gray;background-color:#003d59; opacity:1\"> "
   ]
  },
  {
   "cell_type": "markdown",
   "metadata": {},
   "source": [
    "## Accessing Help"
   ]
  },
  {
   "cell_type": "markdown",
   "metadata": {},
   "source": [
    "In the last chapter we talked about generic places you can find help for your work in Python.\n",
    "\n",
    "In this section we’re going to talk about the in-built help within Python, called doc (document) strings."
   ]
  },
  {
   "cell_type": "markdown",
   "metadata": {},
   "source": [
    "Here we’re going to look at the help documentation for `.sample()`.\n",
    "\n",
    "`.sample()` can be used on a column of a DataFrame – like the `python_movies_df` we created earlier."
   ]
  },
  {
   "cell_type": "code",
   "execution_count": 12,
   "metadata": {},
   "outputs": [
    {
     "data": {
      "text/html": [
       "<div>\n",
       "<style>\n",
       "    .dataframe thead tr:only-child th {\n",
       "        text-align: right;\n",
       "    }\n",
       "\n",
       "    .dataframe thead th {\n",
       "        text-align: left;\n",
       "    }\n",
       "\n",
       "    .dataframe tbody tr th {\n",
       "        vertical-align: top;\n",
       "    }\n",
       "</style>\n",
       "<table border=\"1\" class=\"dataframe\">\n",
       "  <thead>\n",
       "    <tr style=\"text-align: right;\">\n",
       "      <th></th>\n",
       "      <th>film_name</th>\n",
       "      <th>live</th>\n",
       "      <th>year</th>\n",
       "    </tr>\n",
       "  </thead>\n",
       "  <tbody>\n",
       "    <tr>\n",
       "      <th>3</th>\n",
       "      <td>Monty Python Live at the Hollywood Bowl</td>\n",
       "      <td>False</td>\n",
       "      <td>1982</td>\n",
       "    </tr>\n",
       "  </tbody>\n",
       "</table>\n",
       "</div>"
      ],
      "text/plain": [
       "                                 film_name   live  year\n",
       "3  Monty Python Live at the Hollywood Bowl  False  1982"
      ]
     },
     "execution_count": 12,
     "metadata": {},
     "output_type": "execute_result"
    }
   ],
   "source": [
    "python_movies_df.sample()"
   ]
  },
  {
   "cell_type": "markdown",
   "metadata": {},
   "source": [
    "By default `.sample()` returns us one row of a DataFrame.\n",
    "\n",
    "What if I want to change the behaviour to return multiple rows? To find out how to do this I could search the function on Google.\n",
    "\n",
    "However it’s easier to look in the documentation contained within Python.\n",
    "\n",
    "We can do this in a few different ways - by using the function `help()` on our code"
   ]
  },
  {
   "cell_type": "code",
   "execution_count": 14,
   "metadata": {},
   "outputs": [
    {
     "name": "stdout",
     "output_type": "stream",
     "text": [
      "Help on function sample in module pandas.core.generic:\n",
      "\n",
      "sample(self, n=None, frac=None, replace=False, weights=None, random_state=None, axis=None)\n",
      "    Returns a random sample of items from an axis of object.\n",
      "    \n",
      "    .. versionadded:: 0.16.1\n",
      "    \n",
      "    Parameters\n",
      "    ----------\n",
      "    n : int, optional\n",
      "        Number of items from axis to return. Cannot be used with `frac`.\n",
      "        Default = 1 if `frac` = None.\n",
      "    frac : float, optional\n",
      "        Fraction of axis items to return. Cannot be used with `n`.\n",
      "    replace : boolean, optional\n",
      "        Sample with or without replacement. Default = False.\n",
      "    weights : str or ndarray-like, optional\n",
      "        Default 'None' results in equal probability weighting.\n",
      "        If passed a Series, will align with target object on index. Index\n",
      "        values in weights not found in sampled object will be ignored and\n",
      "        index values in sampled object not in weights will be assigned\n",
      "        weights of zero.\n",
      "        If called on a DataFrame, will accept the name of a column\n",
      "        when axis = 0.\n",
      "        Unless weights are a Series, weights must be same length as axis\n",
      "        being sampled.\n",
      "        If weights do not sum to 1, they will be normalized to sum to 1.\n",
      "        Missing values in the weights column will be treated as zero.\n",
      "        inf and -inf values not allowed.\n",
      "    random_state : int or numpy.random.RandomState, optional\n",
      "        Seed for the random number generator (if int), or numpy RandomState\n",
      "        object.\n",
      "    axis : int or string, optional\n",
      "        Axis to sample. Accepts axis number or name. Default is stat axis\n",
      "        for given data type (0 for Series and DataFrames, 1 for Panels).\n",
      "    \n",
      "    Returns\n",
      "    -------\n",
      "    A new object of same type as caller.\n",
      "    \n",
      "    Examples\n",
      "    --------\n",
      "    \n",
      "    Generate an example ``Series`` and ``DataFrame``:\n",
      "    \n",
      "    >>> s = pd.Series(np.random.randn(50))\n",
      "    >>> s.head()\n",
      "    0   -0.038497\n",
      "    1    1.820773\n",
      "    2   -0.972766\n",
      "    3   -1.598270\n",
      "    4   -1.095526\n",
      "    dtype: float64\n",
      "    >>> df = pd.DataFrame(np.random.randn(50, 4), columns=list('ABCD'))\n",
      "    >>> df.head()\n",
      "              A         B         C         D\n",
      "    0  0.016443 -2.318952 -0.566372 -1.028078\n",
      "    1 -1.051921  0.438836  0.658280 -0.175797\n",
      "    2 -1.243569 -0.364626 -0.215065  0.057736\n",
      "    3  1.768216  0.404512 -0.385604 -1.457834\n",
      "    4  1.072446 -1.137172  0.314194 -0.046661\n",
      "    \n",
      "    Next extract a random sample from both of these objects...\n",
      "    \n",
      "    3 random elements from the ``Series``:\n",
      "    \n",
      "    >>> s.sample(n=3)\n",
      "    27   -0.994689\n",
      "    55   -1.049016\n",
      "    67   -0.224565\n",
      "    dtype: float64\n",
      "    \n",
      "    And a random 10% of the ``DataFrame`` with replacement:\n",
      "    \n",
      "    >>> df.sample(frac=0.1, replace=True)\n",
      "               A         B         C         D\n",
      "    35  1.981780  0.142106  1.817165 -0.290805\n",
      "    49 -1.336199 -0.448634 -0.789640  0.217116\n",
      "    40  0.823173 -0.078816  1.009536  1.015108\n",
      "    15  1.421154 -0.055301 -1.922594 -0.019696\n",
      "    6  -0.148339  0.832938  1.787600 -1.383767\n",
      "\n"
     ]
    }
   ],
   "source": [
    "# Run this Cell to show the help\n",
    "#help(pd.DataFrame.sample)\n",
    "help(python_movies_df.sample())"
   ]
  },
  {
   "cell_type": "markdown",
   "metadata": {},
   "source": [
    "The help documentation has a few different sections. As the contents of these are defined by the creator of the function some may have more information in them than others.\n",
    "\n",
    "This one has:\n",
    "\n",
    "`Signature` - the text we use to call the function and the parameters (think options) and arguments (default values) inside of the brackets. Here we have several the paramater `n = ` contols the number of rows returned and parameter called `replace = ` and the default argument for this is `False`.\n",
    "\n",
    "Underneath this tells us the `Docstring` – which is information about the function.\n",
    "\n",
    "Thirdly `Paramaters` gives us more information about the paramaters (options) we can set within this function.\n",
    "\n",
    "Going back to our `replace = ` parameter, we can see that this takes a `Boolean` argument (`True` or `False`) and that it controls if we sample with or without replacement.\n",
    "\n",
    "At the bottom we have `Returns` which tells us what the function returns; and underneath this we have `Examples` - not all functions will have this level of detail in the docstring!\n",
    "\n",
    "Now we know other parameters we can set for `python_movies_df.sample()` let’s try returning a sample of 4 rows, and turn `replace = ` to `True`"
   ]
  },
  {
   "cell_type": "code",
   "execution_count": 24,
   "metadata": {},
   "outputs": [
    {
     "data": {
      "text/html": [
       "<div>\n",
       "<style>\n",
       "    .dataframe thead tr:only-child th {\n",
       "        text-align: right;\n",
       "    }\n",
       "\n",
       "    .dataframe thead th {\n",
       "        text-align: left;\n",
       "    }\n",
       "\n",
       "    .dataframe tbody tr th {\n",
       "        vertical-align: top;\n",
       "    }\n",
       "</style>\n",
       "<table border=\"1\" class=\"dataframe\">\n",
       "  <thead>\n",
       "    <tr style=\"text-align: right;\">\n",
       "      <th></th>\n",
       "      <th>film_name</th>\n",
       "      <th>live</th>\n",
       "      <th>year</th>\n",
       "    </tr>\n",
       "  </thead>\n",
       "  <tbody>\n",
       "    <tr>\n",
       "      <th>5</th>\n",
       "      <td>Monty Python Live (Mostly)</td>\n",
       "      <td>True</td>\n",
       "      <td>2014</td>\n",
       "    </tr>\n",
       "    <tr>\n",
       "      <th>1</th>\n",
       "      <td>Monty Python and the Holy Grail</td>\n",
       "      <td>False</td>\n",
       "      <td>1975</td>\n",
       "    </tr>\n",
       "    <tr>\n",
       "      <th>4</th>\n",
       "      <td>Monty Python's Meaning of Life</td>\n",
       "      <td>False</td>\n",
       "      <td>1983</td>\n",
       "    </tr>\n",
       "    <tr>\n",
       "      <th>2</th>\n",
       "      <td>Monty Python's Life of Brian</td>\n",
       "      <td>False</td>\n",
       "      <td>1979</td>\n",
       "    </tr>\n",
       "    <tr>\n",
       "      <th>4</th>\n",
       "      <td>Monty Python's Meaning of Life</td>\n",
       "      <td>False</td>\n",
       "      <td>1983</td>\n",
       "    </tr>\n",
       "    <tr>\n",
       "      <th>1</th>\n",
       "      <td>Monty Python and the Holy Grail</td>\n",
       "      <td>False</td>\n",
       "      <td>1975</td>\n",
       "    </tr>\n",
       "  </tbody>\n",
       "</table>\n",
       "</div>"
      ],
      "text/plain": [
       "                         film_name   live  year\n",
       "5       Monty Python Live (Mostly)   True  2014\n",
       "1  Monty Python and the Holy Grail  False  1975\n",
       "4   Monty Python's Meaning of Life  False  1983\n",
       "2     Monty Python's Life of Brian  False  1979\n",
       "4   Monty Python's Meaning of Life  False  1983\n",
       "1  Monty Python and the Holy Grail  False  1975"
      ]
     },
     "execution_count": 24,
     "metadata": {},
     "output_type": "execute_result"
    }
   ],
   "source": [
    "python_movies_df.sample(n = 6, replace=True)"
   ]
  },
  {
   "cell_type": "markdown",
   "metadata": {},
   "source": [
    "Due to the random sampling you may need to run the above cell a few times until you see duplicate rows.\n",
    "\n",
    "We’ve now used our Docstring to find some additional arguments we can specify to modify the behaviour of `.sample()`. \n",
    "\n",
    "Our paramaters and their arguments (`n=4 ` and `replace=True`) go inside of the round brackets of the function. These are seperated by commas."
   ]
  },
  {
   "cell_type": "markdown",
   "metadata": {},
   "source": [
    "We can access the Docstrings in a few other ways:  \n",
    "\n",
    "We can also use a `?` before our function. Note this may not work for certain versions of Python - if this is the case use `help()` instead."
   ]
  },
  {
   "cell_type": "code",
   "execution_count": 25,
   "metadata": {
    "collapsed": true
   },
   "outputs": [],
   "source": [
    "?python_movies_df.sample()"
   ]
  },
  {
   "cell_type": "markdown",
   "metadata": {},
   "source": [
    "Jupyter Notebooks also has a rather nice way of accessing the docstring.\n",
    "\n",
    "Place your cursor somewhere in the object below.\n",
    "\n",
    "Pressing Shift + Tab once shows the parameters available for the object you are looking at.\n",
    "\n",
    "Pressing Shift + Tab twice shows the whole docstring\n",
    "\n",
    "Pressing Shift + Tab a third time makes the tool-tip linger for 10 seconds.\n",
    "\n",
    "Pressing Shift + Tab a fourth time put the tool-tip into a larger pane in the browser.\n"
   ]
  },
  {
   "cell_type": "code",
   "execution_count": null,
   "metadata": {
    "collapsed": true
   },
   "outputs": [],
   "source": [
    "# Place your cursor in the .sample() command and press shift + tab\n",
    "\n",
    "python_movies_df.sample()"
   ]
  },
  {
   "cell_type": "markdown",
   "metadata": {},
   "source": [
    "`.sample()` is a fairly simple method – and doesn’t have many parameters and arguments.\n",
    "\n",
    "Depending on what your function does depends on how many arguments and parameters there may me.\n",
    "\n",
    "Have a look at the Docstring below for `pd.read_csv()` which we use for reading in CSV files into Python.\n"
   ]
  },
  {
   "cell_type": "code",
   "execution_count": 26,
   "metadata": {},
   "outputs": [
    {
     "name": "stdout",
     "output_type": "stream",
     "text": [
      "Help on function read_csv in module pandas.io.parsers:\n",
      "\n",
      "read_csv(filepath_or_buffer, sep=',', delimiter=None, header='infer', names=None, index_col=None, usecols=None, squeeze=False, prefix=None, mangle_dupe_cols=True, dtype=None, engine=None, converters=None, true_values=None, false_values=None, skipinitialspace=False, skiprows=None, nrows=None, na_values=None, keep_default_na=True, na_filter=True, verbose=False, skip_blank_lines=True, parse_dates=False, infer_datetime_format=False, keep_date_col=False, date_parser=None, dayfirst=False, iterator=False, chunksize=None, compression='infer', thousands=None, decimal=b'.', lineterminator=None, quotechar='\"', quoting=0, escapechar=None, comment=None, encoding=None, dialect=None, tupleize_cols=False, error_bad_lines=True, warn_bad_lines=True, skipfooter=0, skip_footer=0, doublequote=True, delim_whitespace=False, as_recarray=False, compact_ints=False, use_unsigned=False, low_memory=True, buffer_lines=None, memory_map=False, float_precision=None)\n",
      "    Read CSV (comma-separated) file into DataFrame\n",
      "    \n",
      "    Also supports optionally iterating or breaking of the file\n",
      "    into chunks.\n",
      "    \n",
      "    Additional help can be found in the `online docs for IO Tools\n",
      "    <http://pandas.pydata.org/pandas-docs/stable/io.html>`_.\n",
      "    \n",
      "    Parameters\n",
      "    ----------\n",
      "    filepath_or_buffer : str, pathlib.Path, py._path.local.LocalPath or any object with a read() method (such as a file handle or StringIO)\n",
      "        The string could be a URL. Valid URL schemes include http, ftp, s3, and\n",
      "        file. For file URLs, a host is expected. For instance, a local file could\n",
      "        be file ://localhost/path/to/table.csv\n",
      "    sep : str, default ','\n",
      "        Delimiter to use. If sep is None, the C engine cannot automatically detect\n",
      "        the separator, but the Python parsing engine can, meaning the latter will\n",
      "        be used automatically. In addition, separators longer than 1 character and\n",
      "        different from ``'\\s+'`` will be interpreted as regular expressions and\n",
      "        will also force the use of the Python parsing engine. Note that regex\n",
      "        delimiters are prone to ignoring quoted data. Regex example: ``'\\r\\t'``\n",
      "    delimiter : str, default ``None``\n",
      "        Alternative argument name for sep.\n",
      "    delim_whitespace : boolean, default False\n",
      "        Specifies whether or not whitespace (e.g. ``' '`` or ``'    '``) will be\n",
      "        used as the sep. Equivalent to setting ``sep='\\s+'``. If this option\n",
      "        is set to True, nothing should be passed in for the ``delimiter``\n",
      "        parameter.\n",
      "    \n",
      "        .. versionadded:: 0.18.1 support for the Python parser.\n",
      "    \n",
      "    header : int or list of ints, default 'infer'\n",
      "        Row number(s) to use as the column names, and the start of the data.\n",
      "        Default behavior is as if set to 0 if no ``names`` passed, otherwise\n",
      "        ``None``. Explicitly pass ``header=0`` to be able to replace existing\n",
      "        names. The header can be a list of integers that specify row locations for\n",
      "        a multi-index on the columns e.g. [0,1,3]. Intervening rows that are not\n",
      "        specified will be skipped (e.g. 2 in this example is skipped). Note that\n",
      "        this parameter ignores commented lines and empty lines if\n",
      "        ``skip_blank_lines=True``, so header=0 denotes the first line of data\n",
      "        rather than the first line of the file.\n",
      "    names : array-like, default None\n",
      "        List of column names to use. If file contains no header row, then you\n",
      "        should explicitly pass header=None. Duplicates in this list are not\n",
      "        allowed unless mangle_dupe_cols=True, which is the default.\n",
      "    index_col : int or sequence or False, default None\n",
      "        Column to use as the row labels of the DataFrame. If a sequence is given, a\n",
      "        MultiIndex is used. If you have a malformed file with delimiters at the end\n",
      "        of each line, you might consider index_col=False to force pandas to _not_\n",
      "        use the first column as the index (row names)\n",
      "    usecols : array-like or callable, default None\n",
      "        Return a subset of the columns. If array-like, all elements must either\n",
      "        be positional (i.e. integer indices into the document columns) or strings\n",
      "        that correspond to column names provided either by the user in `names` or\n",
      "        inferred from the document header row(s). For example, a valid array-like\n",
      "        `usecols` parameter would be [0, 1, 2] or ['foo', 'bar', 'baz'].\n",
      "    \n",
      "        If callable, the callable function will be evaluated against the column\n",
      "        names, returning names where the callable function evaluates to True. An\n",
      "        example of a valid callable argument would be ``lambda x: x.upper() in\n",
      "        ['AAA', 'BBB', 'DDD']``. Using this parameter results in much faster\n",
      "        parsing time and lower memory usage.\n",
      "    as_recarray : boolean, default False\n",
      "        DEPRECATED: this argument will be removed in a future version. Please call\n",
      "        `pd.read_csv(...).to_records()` instead.\n",
      "    \n",
      "        Return a NumPy recarray instead of a DataFrame after parsing the data.\n",
      "        If set to True, this option takes precedence over the `squeeze` parameter.\n",
      "        In addition, as row indices are not available in such a format, the\n",
      "        `index_col` parameter will be ignored.\n",
      "    squeeze : boolean, default False\n",
      "        If the parsed data only contains one column then return a Series\n",
      "    prefix : str, default None\n",
      "        Prefix to add to column numbers when no header, e.g. 'X' for X0, X1, ...\n",
      "    mangle_dupe_cols : boolean, default True\n",
      "        Duplicate columns will be specified as 'X.0'...'X.N', rather than\n",
      "        'X'...'X'. Passing in False will cause data to be overwritten if there\n",
      "        are duplicate names in the columns.\n",
      "    dtype : Type name or dict of column -> type, default None\n",
      "        Data type for data or columns. E.g. {'a': np.float64, 'b': np.int32}\n",
      "        Use `str` or `object` to preserve and not interpret dtype.\n",
      "        If converters are specified, they will be applied INSTEAD\n",
      "        of dtype conversion.\n",
      "    engine : {'c', 'python'}, optional\n",
      "        Parser engine to use. The C engine is faster while the python engine is\n",
      "        currently more feature-complete.\n",
      "    converters : dict, default None\n",
      "        Dict of functions for converting values in certain columns. Keys can either\n",
      "        be integers or column labels\n",
      "    true_values : list, default None\n",
      "        Values to consider as True\n",
      "    false_values : list, default None\n",
      "        Values to consider as False\n",
      "    skipinitialspace : boolean, default False\n",
      "        Skip spaces after delimiter.\n",
      "    skiprows : list-like or integer or callable, default None\n",
      "        Line numbers to skip (0-indexed) or number of lines to skip (int)\n",
      "        at the start of the file.\n",
      "    \n",
      "        If callable, the callable function will be evaluated against the row\n",
      "        indices, returning True if the row should be skipped and False otherwise.\n",
      "        An example of a valid callable argument would be ``lambda x: x in [0, 2]``.\n",
      "    skipfooter : int, default 0\n",
      "        Number of lines at bottom of file to skip (Unsupported with engine='c')\n",
      "    skip_footer : int, default 0\n",
      "        DEPRECATED: use the `skipfooter` parameter instead, as they are identical\n",
      "    nrows : int, default None\n",
      "        Number of rows of file to read. Useful for reading pieces of large files\n",
      "    na_values : scalar, str, list-like, or dict, default None\n",
      "        Additional strings to recognize as NA/NaN. If dict passed, specific\n",
      "        per-column NA values.  By default the following values are interpreted as\n",
      "        NaN: '', '#N/A', '#N/A N/A', '#NA', '-1.#IND', '-1.#QNAN', '-NaN', '-nan',\n",
      "        '1.#IND', '1.#QNAN', 'N/A', 'NA', 'NULL', 'NaN', 'nan'`.\n",
      "    keep_default_na : bool, default True\n",
      "        If na_values are specified and keep_default_na is False the default NaN\n",
      "        values are overridden, otherwise they're appended to.\n",
      "    na_filter : boolean, default True\n",
      "        Detect missing value markers (empty strings and the value of na_values). In\n",
      "        data without any NAs, passing na_filter=False can improve the performance\n",
      "        of reading a large file\n",
      "    verbose : boolean, default False\n",
      "        Indicate number of NA values placed in non-numeric columns\n",
      "    skip_blank_lines : boolean, default True\n",
      "        If True, skip over blank lines rather than interpreting as NaN values\n",
      "    parse_dates : boolean or list of ints or names or list of lists or dict, default False\n",
      "    \n",
      "        * boolean. If True -> try parsing the index.\n",
      "        * list of ints or names. e.g. If [1, 2, 3] -> try parsing columns 1, 2, 3\n",
      "          each as a separate date column.\n",
      "        * list of lists. e.g.  If [[1, 3]] -> combine columns 1 and 3 and parse as\n",
      "          a single date column.\n",
      "        * dict, e.g. {'foo' : [1, 3]} -> parse columns 1, 3 as date and call result\n",
      "          'foo'\n",
      "    \n",
      "        If a column or index contains an unparseable date, the entire column or\n",
      "        index will be returned unaltered as an object data type. For non-standard\n",
      "        datetime parsing, use ``pd.to_datetime`` after ``pd.read_csv``\n",
      "    \n",
      "        Note: A fast-path exists for iso8601-formatted dates.\n",
      "    infer_datetime_format : boolean, default False\n",
      "        If True and parse_dates is enabled, pandas will attempt to infer the format\n",
      "        of the datetime strings in the columns, and if it can be inferred, switch\n",
      "        to a faster method of parsing them. In some cases this can increase the\n",
      "        parsing speed by 5-10x.\n",
      "    keep_date_col : boolean, default False\n",
      "        If True and parse_dates specifies combining multiple columns then\n",
      "        keep the original columns.\n",
      "    date_parser : function, default None\n",
      "        Function to use for converting a sequence of string columns to an array of\n",
      "        datetime instances. The default uses ``dateutil.parser.parser`` to do the\n",
      "        conversion. Pandas will try to call date_parser in three different ways,\n",
      "        advancing to the next if an exception occurs: 1) Pass one or more arrays\n",
      "        (as defined by parse_dates) as arguments; 2) concatenate (row-wise) the\n",
      "        string values from the columns defined by parse_dates into a single array\n",
      "        and pass that; and 3) call date_parser once for each row using one or more\n",
      "        strings (corresponding to the columns defined by parse_dates) as arguments.\n",
      "    dayfirst : boolean, default False\n",
      "        DD/MM format dates, international and European format\n",
      "    iterator : boolean, default False\n",
      "        Return TextFileReader object for iteration or getting chunks with\n",
      "        ``get_chunk()``.\n",
      "    chunksize : int, default None\n",
      "        Return TextFileReader object for iteration.\n",
      "        See the `IO Tools docs\n",
      "        <http://pandas.pydata.org/pandas-docs/stable/io.html#io-chunking>`_\n",
      "        for more information on ``iterator`` and ``chunksize``.\n",
      "    compression : {'infer', 'gzip', 'bz2', 'zip', 'xz', None}, default 'infer'\n",
      "        For on-the-fly decompression of on-disk data. If 'infer', then use gzip,\n",
      "        bz2, zip or xz if filepath_or_buffer is a string ending in '.gz', '.bz2',\n",
      "        '.zip', or 'xz', respectively, and no decompression otherwise. If using\n",
      "        'zip', the ZIP file must contain only one data file to be read in.\n",
      "        Set to None for no decompression.\n",
      "    \n",
      "        .. versionadded:: 0.18.1 support for 'zip' and 'xz' compression.\n",
      "    \n",
      "    thousands : str, default None\n",
      "        Thousands separator\n",
      "    decimal : str, default '.'\n",
      "        Character to recognize as decimal point (e.g. use ',' for European data).\n",
      "    float_precision : string, default None\n",
      "        Specifies which converter the C engine should use for floating-point\n",
      "        values. The options are `None` for the ordinary converter,\n",
      "        `high` for the high-precision converter, and `round_trip` for the\n",
      "        round-trip converter.\n",
      "    lineterminator : str (length 1), default None\n",
      "        Character to break file into lines. Only valid with C parser.\n",
      "    quotechar : str (length 1), optional\n",
      "        The character used to denote the start and end of a quoted item. Quoted\n",
      "        items can include the delimiter and it will be ignored.\n",
      "    quoting : int or csv.QUOTE_* instance, default 0\n",
      "        Control field quoting behavior per ``csv.QUOTE_*`` constants. Use one of\n",
      "        QUOTE_MINIMAL (0), QUOTE_ALL (1), QUOTE_NONNUMERIC (2) or QUOTE_NONE (3).\n",
      "    doublequote : boolean, default ``True``\n",
      "       When quotechar is specified and quoting is not ``QUOTE_NONE``, indicate\n",
      "       whether or not to interpret two consecutive quotechar elements INSIDE a\n",
      "       field as a single ``quotechar`` element.\n",
      "    escapechar : str (length 1), default None\n",
      "        One-character string used to escape delimiter when quoting is QUOTE_NONE.\n",
      "    comment : str, default None\n",
      "        Indicates remainder of line should not be parsed. If found at the beginning\n",
      "        of a line, the line will be ignored altogether. This parameter must be a\n",
      "        single character. Like empty lines (as long as ``skip_blank_lines=True``),\n",
      "        fully commented lines are ignored by the parameter `header` but not by\n",
      "        `skiprows`. For example, if comment='#', parsing '#empty\\na,b,c\\n1,2,3'\n",
      "        with `header=0` will result in 'a,b,c' being\n",
      "        treated as the header.\n",
      "    encoding : str, default None\n",
      "        Encoding to use for UTF when reading/writing (ex. 'utf-8'). `List of Python\n",
      "        standard encodings\n",
      "        <https://docs.python.org/3/library/codecs.html#standard-encodings>`_\n",
      "    dialect : str or csv.Dialect instance, default None\n",
      "        If provided, this parameter will override values (default or not) for the\n",
      "        following parameters: `delimiter`, `doublequote`, `escapechar`,\n",
      "        `skipinitialspace`, `quotechar`, and `quoting`. If it is necessary to\n",
      "        override values, a ParserWarning will be issued. See csv.Dialect\n",
      "        documentation for more details.\n",
      "    tupleize_cols : boolean, default False\n",
      "        Leave a list of tuples on columns as is (default is to convert to\n",
      "        a Multi Index on the columns)\n",
      "    error_bad_lines : boolean, default True\n",
      "        Lines with too many fields (e.g. a csv line with too many commas) will by\n",
      "        default cause an exception to be raised, and no DataFrame will be returned.\n",
      "        If False, then these \"bad lines\" will dropped from the DataFrame that is\n",
      "        returned.\n",
      "    warn_bad_lines : boolean, default True\n",
      "        If error_bad_lines is False, and warn_bad_lines is True, a warning for each\n",
      "        \"bad line\" will be output.\n",
      "    low_memory : boolean, default True\n",
      "        Internally process the file in chunks, resulting in lower memory use\n",
      "        while parsing, but possibly mixed type inference.  To ensure no mixed\n",
      "        types either set False, or specify the type with the `dtype` parameter.\n",
      "        Note that the entire file is read into a single DataFrame regardless,\n",
      "        use the `chunksize` or `iterator` parameter to return the data in chunks.\n",
      "        (Only valid with C parser)\n",
      "    buffer_lines : int, default None\n",
      "        DEPRECATED: this argument will be removed in a future version because its\n",
      "        value is not respected by the parser\n",
      "    compact_ints : boolean, default False\n",
      "        DEPRECATED: this argument will be removed in a future version\n",
      "    \n",
      "        If compact_ints is True, then for any column that is of integer dtype,\n",
      "        the parser will attempt to cast it as the smallest integer dtype possible,\n",
      "        either signed or unsigned depending on the specification from the\n",
      "        `use_unsigned` parameter.\n",
      "    use_unsigned : boolean, default False\n",
      "        DEPRECATED: this argument will be removed in a future version\n",
      "    \n",
      "        If integer columns are being compacted (i.e. `compact_ints=True`), specify\n",
      "        whether the column should be compacted to the smallest signed or unsigned\n",
      "        integer dtype.\n",
      "    memory_map : boolean, default False\n",
      "        If a filepath is provided for `filepath_or_buffer`, map the file object\n",
      "        directly onto memory and access the data directly from there. Using this\n",
      "        option can improve performance because there is no longer any I/O overhead.\n",
      "    \n",
      "    Returns\n",
      "    -------\n",
      "    result : DataFrame or TextParser\n",
      "\n"
     ]
    }
   ],
   "source": [
    "help(pd.read_csv)"
   ]
  },
  {
   "cell_type": "markdown",
   "metadata": {},
   "source": [
    "[return to menu](#menu)"
   ]
  },
  {
   "cell_type": "markdown",
   "metadata": {},
   "source": [
    "<a id='help'></a>\n",
    "<hr style=\"width:100%;height:4px;border-width:0;color:gray;background-color:#003d59; opacity:1\"> "
   ]
  },
  {
   "cell_type": "markdown",
   "metadata": {},
   "source": [
    "## End of Chapter"
   ]
  },
  {
   "cell_type": "markdown",
   "metadata": {},
   "source": [
    "In this chapter we’ve explored:\n",
    "* Variables and naming objects\n",
    "* Common Data Types ( `Int`, `Float`, `Str`, `Bool` ) and how to convert them\n",
    "* Objects and Classes – including `lists` , `tuples` and `dictionaries`\n",
    "* How to select items (indexing) from our common objects\n",
    "* A basic introduction to functions, methods and attributes\n",
    "* A basic introduction to the Pandas package, and the Series and DataFrame objects.\n",
    "* How to access help\n",
    "\n",
    "\n",
    "You have completed Chapter 2 of the Introduction to Python course.\n",
    "\n",
    "Please move on to Chapter 3"
   ]
  }
 ],
 "metadata": {
  "kernelspec": {
   "display_name": "Python 3",
   "language": "python",
   "name": "python3"
  },
  "language_info": {
   "codemirror_mode": {
    "name": "ipython",
    "version": 3
   },
   "file_extension": ".py",
   "mimetype": "text/x-python",
   "name": "python",
   "nbconvert_exporter": "python",
   "pygments_lexer": "ipython3",
   "version": "3.8.3"
  },
  "toc": {
   "base_numbering": 1,
   "nav_menu": {},
   "number_sections": false,
   "sideBar": true,
   "skip_h1_title": false,
   "title_cell": "Table of Contents",
   "title_sidebar": "Contents",
   "toc_cell": false,
   "toc_position": {},
   "toc_section_display": true,
   "toc_window_display": false
  }
 },
 "nbformat": 4,
 "nbformat_minor": 2
}
